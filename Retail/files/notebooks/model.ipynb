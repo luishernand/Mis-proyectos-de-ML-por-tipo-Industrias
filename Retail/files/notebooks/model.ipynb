{
 "cells": [
  {
   "cell_type": "markdown",
   "id": "superior-weekly",
   "metadata": {},
   "source": [
    "# Regressor Model"
   ]
  },
  {
   "cell_type": "markdown",
   "id": "oriental-budapest",
   "metadata": {},
   "source": [
    "## 0. Dependencies"
   ]
  },
  {
   "cell_type": "code",
   "execution_count": 1,
   "id": "respective-crown",
   "metadata": {},
   "outputs": [],
   "source": [
    "import warnings\n",
    "warnings.filterwarnings(\"ignore\")\n",
    "\n",
    "import pandas as pd\n",
    "import numpy as np\n",
    "import matplotlib.pyplot as plt\n",
    "import seaborn as sns\n",
    "%matplotlib inline "
   ]
  },
  {
   "cell_type": "markdown",
   "id": "disturbed-upper",
   "metadata": {},
   "source": [
    "## Read datasest"
   ]
  },
  {
   "cell_type": "markdown",
   "id": "fantastic-prompt",
   "metadata": {},
   "source": [
    "#### stores"
   ]
  },
  {
   "cell_type": "code",
   "execution_count": 14,
   "id": "cutting-action",
   "metadata": {},
   "outputs": [],
   "source": [
    "train = pd.read_csv('train_cleaned.csv', parse_dates=True, index_col=['Date'])"
   ]
  },
  {
   "cell_type": "code",
   "execution_count": 15,
   "id": "delayed-surface",
   "metadata": {},
   "outputs": [
    {
     "data": {
      "text/html": [
       "<div>\n",
       "<style scoped>\n",
       "    .dataframe tbody tr th:only-of-type {\n",
       "        vertical-align: middle;\n",
       "    }\n",
       "\n",
       "    .dataframe tbody tr th {\n",
       "        vertical-align: top;\n",
       "    }\n",
       "\n",
       "    .dataframe thead th {\n",
       "        text-align: right;\n",
       "    }\n",
       "</style>\n",
       "<table border=\"1\" class=\"dataframe\">\n",
       "  <thead>\n",
       "    <tr style=\"text-align: right;\">\n",
       "      <th></th>\n",
       "      <th>Store</th>\n",
       "      <th>DayOfWeek</th>\n",
       "      <th>Sales</th>\n",
       "      <th>Customers</th>\n",
       "      <th>Open</th>\n",
       "      <th>Promo</th>\n",
       "      <th>StateHoliday</th>\n",
       "      <th>SchoolHoliday</th>\n",
       "      <th>year</th>\n",
       "      <th>month</th>\n",
       "      <th>days</th>\n",
       "      <th>weekofyear</th>\n",
       "      <th>salespercustomers</th>\n",
       "    </tr>\n",
       "    <tr>\n",
       "      <th>Date</th>\n",
       "      <th></th>\n",
       "      <th></th>\n",
       "      <th></th>\n",
       "      <th></th>\n",
       "      <th></th>\n",
       "      <th></th>\n",
       "      <th></th>\n",
       "      <th></th>\n",
       "      <th></th>\n",
       "      <th></th>\n",
       "      <th></th>\n",
       "      <th></th>\n",
       "      <th></th>\n",
       "    </tr>\n",
       "  </thead>\n",
       "  <tbody>\n",
       "    <tr>\n",
       "      <th>2015-07-31</th>\n",
       "      <td>1</td>\n",
       "      <td>5</td>\n",
       "      <td>5263</td>\n",
       "      <td>555</td>\n",
       "      <td>1</td>\n",
       "      <td>1</td>\n",
       "      <td>0</td>\n",
       "      <td>1</td>\n",
       "      <td>2015</td>\n",
       "      <td>7</td>\n",
       "      <td>31</td>\n",
       "      <td>31</td>\n",
       "      <td>9.482883</td>\n",
       "    </tr>\n",
       "    <tr>\n",
       "      <th>2015-07-31</th>\n",
       "      <td>2</td>\n",
       "      <td>5</td>\n",
       "      <td>6064</td>\n",
       "      <td>625</td>\n",
       "      <td>1</td>\n",
       "      <td>1</td>\n",
       "      <td>0</td>\n",
       "      <td>1</td>\n",
       "      <td>2015</td>\n",
       "      <td>7</td>\n",
       "      <td>31</td>\n",
       "      <td>31</td>\n",
       "      <td>9.702400</td>\n",
       "    </tr>\n",
       "  </tbody>\n",
       "</table>\n",
       "</div>"
      ],
      "text/plain": [
       "            Store  DayOfWeek  Sales  Customers  Open  Promo StateHoliday  \\\n",
       "Date                                                                       \n",
       "2015-07-31      1          5   5263        555     1      1            0   \n",
       "2015-07-31      2          5   6064        625     1      1            0   \n",
       "\n",
       "            SchoolHoliday  year  month  days  weekofyear  salespercustomers  \n",
       "Date                                                                         \n",
       "2015-07-31              1  2015      7    31          31           9.482883  \n",
       "2015-07-31              1  2015      7    31          31           9.702400  "
      ]
     },
     "execution_count": 15,
     "metadata": {},
     "output_type": "execute_result"
    }
   ],
   "source": [
    "train.head(2)"
   ]
  },
  {
   "cell_type": "code",
   "execution_count": 16,
   "id": "civilian-potato",
   "metadata": {},
   "outputs": [
    {
     "data": {
      "text/plain": [
       "(844338, 13)"
      ]
     },
     "execution_count": 16,
     "metadata": {},
     "output_type": "execute_result"
    }
   ],
   "source": [
    "train.shape"
   ]
  },
  {
   "cell_type": "code",
   "execution_count": 17,
   "id": "genetic-helena",
   "metadata": {},
   "outputs": [
    {
     "data": {
      "text/plain": [
       "Store                0\n",
       "DayOfWeek            0\n",
       "Sales                0\n",
       "Customers            0\n",
       "Open                 0\n",
       "Promo                0\n",
       "StateHoliday         0\n",
       "SchoolHoliday        0\n",
       "year                 0\n",
       "month                0\n",
       "days                 0\n",
       "weekofyear           0\n",
       "salespercustomers    0\n",
       "dtype: int64"
      ]
     },
     "execution_count": 17,
     "metadata": {},
     "output_type": "execute_result"
    }
   ],
   "source": [
    "train.isnull().sum()"
   ]
  },
  {
   "cell_type": "code",
   "execution_count": 18,
   "id": "regular-pulse",
   "metadata": {},
   "outputs": [
    {
     "data": {
      "text/plain": [
       "int64      11\n",
       "float64     1\n",
       "object      1\n",
       "dtype: int64"
      ]
     },
     "execution_count": 18,
     "metadata": {},
     "output_type": "execute_result"
    }
   ],
   "source": [
    "train.dtypes.value_counts()"
   ]
  },
  {
   "cell_type": "markdown",
   "id": "thrown-elevation",
   "metadata": {},
   "source": [
    "### Data Preparation"
   ]
  },
  {
   "cell_type": "code",
   "execution_count": 19,
   "id": "extra-toilet",
   "metadata": {},
   "outputs": [
    {
     "data": {
      "text/plain": [
       "Index(['StateHoliday'], dtype='object')"
      ]
     },
     "execution_count": 19,
     "metadata": {},
     "output_type": "execute_result"
    }
   ],
   "source": [
    "train.select_dtypes('object').columns"
   ]
  },
  {
   "cell_type": "code",
   "execution_count": 20,
   "id": "anonymous-concert",
   "metadata": {},
   "outputs": [
    {
     "data": {
      "text/plain": [
       "array(['0', 'a', 'b', 'c'], dtype=object)"
      ]
     },
     "execution_count": 20,
     "metadata": {},
     "output_type": "execute_result"
    }
   ],
   "source": [
    "train.StateHoliday.unique()"
   ]
  },
  {
   "cell_type": "code",
   "execution_count": 21,
   "id": "manufactured-killer",
   "metadata": {},
   "outputs": [],
   "source": [
    "# convert to numerical\n",
    "mapping = {'0':0, 'a':1, 'b':2, 'c':3}\n",
    "\n",
    "train.StateHoliday.replace(mapping, inplace = True)"
   ]
  },
  {
   "cell_type": "markdown",
   "id": "working-scanner",
   "metadata": {},
   "source": [
    "## 2. Feature Selections"
   ]
  },
  {
   "cell_type": "code",
   "execution_count": 23,
   "id": "filled-monaco",
   "metadata": {},
   "outputs": [
    {
     "data": {
      "text/plain": [
       "((844338, 12), (844338,))"
      ]
     },
     "execution_count": 23,
     "metadata": {},
     "output_type": "execute_result"
    }
   ],
   "source": [
    "y = train['Sales']\n",
    "X = train.drop('Sales', axis =1)\n",
    "X.shape, y.shape"
   ]
  },
  {
   "cell_type": "markdown",
   "id": "sixth-offense",
   "metadata": {},
   "source": [
    "### Split train-test "
   ]
  },
  {
   "cell_type": "code",
   "execution_count": 24,
   "id": "geological-endorsement",
   "metadata": {},
   "outputs": [],
   "source": [
    "from sklearn.model_selection import train_test_split"
   ]
  },
  {
   "cell_type": "code",
   "execution_count": 25,
   "id": "foreign-outline",
   "metadata": {},
   "outputs": [],
   "source": [
    "X_train, X_test, y_train,y_test = train_test_split(X, y, test_size = 0.3, random_state=42)"
   ]
  },
  {
   "cell_type": "markdown",
   "id": "accompanied-battlefield",
   "metadata": {},
   "source": [
    "## 3. Model"
   ]
  },
  {
   "cell_type": "code",
   "execution_count": 26,
   "id": "close-haiti",
   "metadata": {},
   "outputs": [],
   "source": [
    "import xgboost as xgb\n",
    "from xgboost.sklearn import XGBRegressor"
   ]
  },
  {
   "cell_type": "code",
   "execution_count": 27,
   "id": "strange-lesbian",
   "metadata": {},
   "outputs": [
    {
     "data": {
      "text/plain": [
       "XGBRegressor(base_score=0.5, booster='gbtree', colsample_bylevel=1,\n",
       "             colsample_bynode=1, colsample_bytree=1, gamma=0, gpu_id=-1,\n",
       "             importance_type='gain', interaction_constraints='',\n",
       "             learning_rate=0.300000012, max_delta_step=0, max_depth=6,\n",
       "             min_child_weight=1, missing=nan, monotone_constraints='()',\n",
       "             n_estimators=100, n_jobs=4, num_parallel_tree=1, random_state=0,\n",
       "             reg_alpha=0, reg_lambda=1, scale_pos_weight=1, subsample=1,\n",
       "             tree_method='exact', validate_parameters=1, verbosity=None)"
      ]
     },
     "execution_count": 27,
     "metadata": {},
     "output_type": "execute_result"
    }
   ],
   "source": [
    "XGB = XGBRegressor()\n",
    "XGB.fit(X_train, y_train)"
   ]
  },
  {
   "cell_type": "code",
   "execution_count": 28,
   "id": "derived-tiffany",
   "metadata": {},
   "outputs": [],
   "source": [
    "yhat = XGB.predict(X_test)"
   ]
  },
  {
   "cell_type": "markdown",
   "id": "isolated-craft",
   "metadata": {},
   "source": [
    "### Evaluation"
   ]
  },
  {
   "cell_type": "code",
   "execution_count": 29,
   "id": "caroline-bracelet",
   "metadata": {},
   "outputs": [],
   "source": [
    "from sklearn import metrics"
   ]
  },
  {
   "cell_type": "code",
   "execution_count": 64,
   "id": "responsible-coordinate",
   "metadata": {},
   "outputs": [],
   "source": [
    "r2 = metrics.r2_score(y_test, yhat)"
   ]
  },
  {
   "cell_type": "code",
   "execution_count": 65,
   "id": "productive-holder",
   "metadata": {},
   "outputs": [
    {
     "data": {
      "text/plain": [
       "0.9993151904235793"
      ]
     },
     "execution_count": 65,
     "metadata": {},
     "output_type": "execute_result"
    }
   ],
   "source": [
    "r2"
   ]
  },
  {
   "cell_type": "markdown",
   "id": "limited-affiliation",
   "metadata": {},
   "source": [
    "### Tuning Parameters"
   ]
  },
  {
   "cell_type": "code",
   "execution_count": 34,
   "id": "western-rates",
   "metadata": {},
   "outputs": [],
   "source": [
    "import scipy.stats as st\n",
    "from sklearn.model_selection import GridSearchCV, RandomizedSearchCV"
   ]
  },
  {
   "cell_type": "markdown",
   "id": "cutting-mauritius",
   "metadata": {},
   "source": [
    "- eta: tamaño de paso utilizado para actualizar los pesos. Un valor más bajo significa un entrenamiento más lento pero una mejor convergencia.\n",
    "- num_round: número total de iteraciones.\n",
    "- subsample: la proporción de datos de entrenamiento utilizados en cada iteración; combate sobreajuste. Debe configurarse en el rango del 30% al 80% del conjunto de datos de entrenamiento y compararse con un valor del 100% si no hay muestreo.\n",
    "- colsample_bytree: la proporción de características utilizadas en cada iteración, por defecto 1.\n",
    "- max_depth: la profundidad máxima de cada árbol. Si no limitamos la profundidad máxima, el aumento de gradiente eventualmente se sobreajustará.\n",
    "- early_stopping_rounds: si no hay un aumento en la puntuación de validación para un número determinado de iteraciones, el algoritmo se detendrá antes y también combatirá el sobreajuste."
   ]
  },
  {
   "cell_type": "code",
   "execution_count": 58,
   "id": "based-demand",
   "metadata": {},
   "outputs": [],
   "source": [
    "# base parameters\n",
    "params = {\n",
    "    'booster': 'gbtree', \n",
    "    'objective': 'reg:linear', # regression task\n",
    "    'subsample': 0.8, # 80% of data to grow trees and prevent overfitting\n",
    "    'colsample_bytree': 0.85, # 85% of features used\n",
    "    'eta': 0.1, \n",
    "    'max_depth': 10, \n",
    "    'seed': 42} # for reproducible results"
   ]
  },
  {
   "cell_type": "code",
   "execution_count": 60,
   "id": "republican-better",
   "metadata": {},
   "outputs": [],
   "source": [
    "predictors = [x for x in train.columns if x not in ['Customers', 'Sales', 'SalePerCustomer']]"
   ]
  },
  {
   "cell_type": "code",
   "execution_count": 61,
   "id": "nuclear-deputy",
   "metadata": {},
   "outputs": [
    {
     "data": {
      "text/plain": [
       "['Store',\n",
       " 'DayOfWeek',\n",
       " 'Open',\n",
       " 'Promo',\n",
       " 'StateHoliday',\n",
       " 'SchoolHoliday',\n",
       " 'year',\n",
       " 'month',\n",
       " 'days',\n",
       " 'weekofyear',\n",
       " 'salespercustomers']"
      ]
     },
     "execution_count": 61,
     "metadata": {},
     "output_type": "execute_result"
    }
   ],
   "source": [
    "predictors"
   ]
  },
  {
   "cell_type": "code",
   "execution_count": 69,
   "id": "twelve-frank",
   "metadata": {},
   "outputs": [
    {
     "name": "stdout",
     "output_type": "stream",
     "text": [
      "[10:49:02] WARNING: C:/Users/Administrator/workspace/xgboost-win64_release_1.3.0/src/objective/regression_obj.cu:170: reg:linear is now deprecated in favor of reg:squarederror.\n",
      "[0]\ttrain-rmse:6958.52978\ttest-rmse:6955.67383\n",
      "[1]\ttrain-rmse:6370.58789\ttest-rmse:6368.29883\n",
      "[2]\ttrain-rmse:5840.44189\ttest-rmse:5839.22754\n",
      "[3]\ttrain-rmse:5374.96826\ttest-rmse:5375.11377\n",
      "[4]\ttrain-rmse:4969.89062\ttest-rmse:4971.46240\n",
      "[5]\ttrain-rmse:4605.24023\ttest-rmse:4607.81836\n",
      "[6]\ttrain-rmse:4292.97022\ttest-rmse:4296.77686\n",
      "[7]\ttrain-rmse:4016.35059\ttest-rmse:4021.88892\n",
      "[8]\ttrain-rmse:3779.65894\ttest-rmse:3786.82422\n",
      "[9]\ttrain-rmse:3570.28857\ttest-rmse:3578.75781\n"
     ]
    }
   ],
   "source": [
    "# XGB with xgboost library\n",
    "dtrain = xgb.DMatrix(X_train[predictors], y_train)\n",
    "dtest = xgb.DMatrix(X_test[predictors], y_test)\n",
    "\n",
    "watchlist = [(dtrain, 'train'), (dtest, 'test')]\n",
    "\n",
    "xgb_model = xgb.train(params, dtrain,evals = watchlist,\n",
    "                      early_stopping_rounds = 7,  verbose_eval = True)"
   ]
  },
  {
   "cell_type": "code",
   "execution_count": 70,
   "id": "found-adaptation",
   "metadata": {},
   "outputs": [],
   "source": [
    "# XGB with sklearn wrapper\n",
    "# the same parameters as for xgboost model\n",
    "params_sk = {'max_depth': 10, \n",
    "            'n_estimators': 300, # the same as num_rounds in xgboost\n",
    "            'objective': 'reg:linear', \n",
    "            'subsample': 0.8, \n",
    "            'colsample_bytree': 0.85, \n",
    "            'learning_rate': 0.1, \n",
    "            'seed': 42}     "
   ]
  },
  {
   "cell_type": "code",
   "execution_count": 74,
   "id": "economic-dancing",
   "metadata": {},
   "outputs": [],
   "source": [
    "#skrg = XGBRegressor(**params_sk)\n",
    "#skrg.fit(X_train, y_train)"
   ]
  },
  {
   "cell_type": "code",
   "execution_count": 76,
   "id": "approximate-haiti",
   "metadata": {},
   "outputs": [],
   "source": [
    "params_grid = {  \n",
    "    'learning_rate': st.uniform(0.01, 0.3),\n",
    "    'max_depth': list(range(10, 20, 2)),\n",
    "    'gamma': st.uniform(0, 10),\n",
    "    'reg_alpha': st.expon(0, 50)}"
   ]
  },
  {
   "cell_type": "code",
   "execution_count": 77,
   "id": "corporate-ordering",
   "metadata": {},
   "outputs": [],
   "source": [
    "#RdCV = RandomizedSearchCV(skrg, params_grid, cv=5)\n",
    "#RdCV.fit(X_train, y_train)#"
   ]
  },
  {
   "cell_type": "code",
   "execution_count": 54,
   "id": "acute-montana",
   "metadata": {},
   "outputs": [],
   "source": [
    "# with new parameters\n",
    "params_new = {\n",
    "    'booster': 'gbtree', \n",
    "    'objective': 'reg:linear', \n",
    "    'subsample': 0.8, \n",
    "    'colsample_bytree': 0.85, \n",
    "    'eta': 0.044338624448041611, \n",
    "    'max_depth': 16, \n",
    "    'gamma': 0.80198330585415034,\n",
    "    'reg_alpha': 23.008226565535971,\n",
    "    'seed': 42} "
   ]
  },
  {
   "cell_type": "markdown",
   "id": "working-beverage",
   "metadata": {},
   "source": [
    "**Nota**  \n",
    "No jecutare tuneo de los parametros ya que consume muchos recursos en cuanto al tiempo"
   ]
  },
  {
   "cell_type": "code",
   "execution_count": 57,
   "id": "regulation-tuning",
   "metadata": {},
   "outputs": [
    {
     "data": {
      "image/png": "[encoded data removed]",
      "text/plain": [
       "<Figure size 432x288 with 1 Axes>"
      ]
     },
     "metadata": {
      "needs_background": "light"
     },
     "output_type": "display_data"
    }
   ],
   "source": [
    "xgb.plot_importance(XGB);"
   ]
  }
 ],
 "metadata": {
  "kernelspec": {
   "display_name": "Python 3",
   "language": "python",
   "name": "python3"
  },
  "language_info": {
   "codemirror_mode": {
    "name": "ipython",
    "version": 3
   },
   "file_extension": ".py",
   "mimetype": "text/x-python",
   "name": "python",
   "nbconvert_exporter": "python",
   "pygments_lexer": "ipython3",
   "version": "3.8.5"
  }
 },
 "nbformat": 4,
 "nbformat_minor": 5
}
