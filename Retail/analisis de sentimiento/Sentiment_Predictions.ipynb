{
  "nbformat": 4,
  "nbformat_minor": 0,
  "metadata": {
    "colab": {
      "name": "Sentiment Predictions.ipynb",
      "private_outputs": true,
      "provenance": [],
      "collapsed_sections": []
    },
    "kernelspec": {
      "name": "python3",
      "display_name": "Python 3"
    },
    "language_info": {
      "name": "python"
    }
  },
  "cells": [
    {
      "cell_type": "markdown",
      "metadata": {
        "id": "6MaAOVEpRlRm"
      },
      "source": [
        "# Sentiment Analysis Prediction"
      ]
    },
    {
      "cell_type": "markdown",
      "metadata": {
        "id": "J9bSpZBfR0Q6"
      },
      "source": [
        "## Dependecies"
      ]
    },
    {
      "cell_type": "code",
      "metadata": {
        "id": "680CePNlSK9K"
      },
      "source": [
        "!pip install neattext"
      ],
      "execution_count": null,
      "outputs": []
    },
    {
      "cell_type": "code",
      "metadata": {
        "id": "EpQWNiJzR3f7"
      },
      "source": [
        "import numpy as np\n",
        "import pandas as pd\n",
        "import spacy\n",
        "import neattext.functions as nfx\n",
        "import matplotlib.pyplot as plt\n",
        "import seaborn as sns"
      ],
      "execution_count": null,
      "outputs": []
    },
    {
      "cell_type": "markdown",
      "metadata": {
        "id": "6gpMiEyfR6Z_"
      },
      "source": [
        "## Cargar Dataset"
      ]
    },
    {
      "cell_type": "code",
      "metadata": {
        "id": "Kk2hHqnyZlug"
      },
      "source": [
        "from google.colab import files\n",
        "files.upload()"
      ],
      "execution_count": null,
      "outputs": []
    },
    {
      "cell_type": "code",
      "metadata": {
        "id": "zaLQoZS-UTUb"
      },
      "source": [
        "df = pd.read_csv('Sentiment Analysis Dataset (1).csv', encoding='latin-1')"
      ],
      "execution_count": null,
      "outputs": []
    },
    {
      "cell_type": "code",
      "metadata": {
        "id": "xKTgoRwpU10t"
      },
      "source": [
        "df.head()"
      ],
      "execution_count": null,
      "outputs": []
    },
    {
      "cell_type": "code",
      "metadata": {
        "id": "Dqpz0mVKiH8F"
      },
      "source": [
        "df.shape"
      ],
      "execution_count": null,
      "outputs": []
    },
    {
      "cell_type": "markdown",
      "metadata": {
        "id": "qqDfxqMvU3kZ"
      },
      "source": [
        "## Data Cleaning"
      ]
    },
    {
      "cell_type": "code",
      "metadata": {
        "id": "h1jesD8wU8Wi"
      },
      "source": [
        "df['text_clean'] = df['SentimentText'].apply(nfx.remove_punctuations)"
      ],
      "execution_count": null,
      "outputs": []
    },
    {
      "cell_type": "code",
      "metadata": {
        "id": "Bv_j6h6-iwfi"
      },
      "source": [
        "df['text_clean'] = df['text_clean'].apply(nfx.remove_shortwords)"
      ],
      "execution_count": null,
      "outputs": []
    },
    {
      "cell_type": "code",
      "metadata": {
        "id": "fQ9hMJlzi840"
      },
      "source": [
        "df['text_clean'] = df['text_clean'].apply(nfx.remove_special_characters)"
      ],
      "execution_count": null,
      "outputs": []
    },
    {
      "cell_type": "code",
      "metadata": {
        "id": "p8g4GvRxjBMU"
      },
      "source": [
        "df['text_clean'] = df['text_clean'].apply(nfx.remove_puncts)"
      ],
      "execution_count": null,
      "outputs": []
    },
    {
      "cell_type": "code",
      "metadata": {
        "id": "V01iZCU4jGfF"
      },
      "source": [
        "df['text_clean'] = df['text_clean'].apply(nfx.remove_dates)"
      ],
      "execution_count": null,
      "outputs": []
    },
    {
      "cell_type": "code",
      "metadata": {
        "id": "NDUHDisijLOl"
      },
      "source": [
        "df[['SentimentText', 'text_clean']].head()"
      ],
      "execution_count": null,
      "outputs": []
    },
    {
      "cell_type": "markdown",
      "metadata": {
        "id": "8voXLS3tjRSZ"
      },
      "source": [
        "## Crear polaridad y Subjetividad  \n",
        "Métricas de polaridad y subjetividad\n",
        "Para comenzar nuestro viaje, veamos la oferta de TextBlob. Con TextBlob, obtenemos una métrica de polaridad y subjetividad. La polaridad es el sentimiento mismo, que va de -1 a +1. La subjetividad es una medida del sentimiento siendo objetivo a subjetivo, y va de 0 a 1"
      ]
    },
    {
      "cell_type": "code",
      "metadata": {
        "id": "WjK7I-VBjlfd"
      },
      "source": [
        "from textblob import TextBlob"
      ],
      "execution_count": null,
      "outputs": []
    },
    {
      "cell_type": "code",
      "metadata": {
        "id": "3AvZzrsbjrOE"
      },
      "source": [
        "df['polarity'] = df['text_clean'].apply(lambda x: TextBlob(x).sentiment.polarity)"
      ],
      "execution_count": null,
      "outputs": []
    },
    {
      "cell_type": "code",
      "metadata": {
        "id": "i6PgnG2pkB1V"
      },
      "source": [
        "df['subjectivity'] = df['text_clean'].apply(lambda x: TextBlob(x).sentiment.subjectivity)"
      ],
      "execution_count": null,
      "outputs": []
    },
    {
      "cell_type": "code",
      "metadata": {
        "id": "3jyVrHPakjAl"
      },
      "source": [
        "df.head()"
      ],
      "execution_count": null,
      "outputs": []
    },
    {
      "cell_type": "code",
      "metadata": {
        "id": "fntJ-t2skq_V"
      },
      "source": [
        "#Get sentiment labels\n",
        "def get_sentiment(polarity):\n",
        "  if polarity >0:\n",
        "    label = 'Positive'\n",
        "  elif polarity <0:\n",
        "    label ='Negative'\n",
        "  else:\n",
        "    label = 'Neutral'\n",
        "  return label"
      ],
      "execution_count": null,
      "outputs": []
    },
    {
      "cell_type": "code",
      "metadata": {
        "id": "zQ3ejPztlZ9C"
      },
      "source": [
        "df['sentiment_label'] = df['polarity'].apply(lambda x: get_sentiment(x))"
      ],
      "execution_count": null,
      "outputs": []
    },
    {
      "cell_type": "code",
      "metadata": {
        "id": "KuXF7Hp2lzQf"
      },
      "source": [
        "df.head()"
      ],
      "execution_count": null,
      "outputs": []
    },
    {
      "cell_type": "code",
      "metadata": {
        "id": "Kw-gb2R0l3i5"
      },
      "source": [
        "df['sentiment_label'].value_counts()"
      ],
      "execution_count": null,
      "outputs": []
    },
    {
      "cell_type": "code",
      "metadata": {
        "id": "NjWYYj2WmAFU"
      },
      "source": [
        "sns.countplot(df['sentiment_label'])\n",
        "plt.show()"
      ],
      "execution_count": null,
      "outputs": []
    },
    {
      "cell_type": "code",
      "metadata": {
        "id": "m8TCmCF6mGQh"
      },
      "source": [
        "print('Porcentaje:')\n",
        "round(df['sentiment_label'].value_counts(normalize = True)*100, 2)"
      ],
      "execution_count": null,
      "outputs": []
    },
    {
      "cell_type": "markdown",
      "metadata": {
        "id": "RPO6YqWJrJOP"
      },
      "source": [
        "### Reducir los datos a 1000 registros"
      ]
    },
    {
      "cell_type": "code",
      "metadata": {
        "id": "gh57Ff7GqDXu"
      },
      "source": [
        "df1 = df[:1000]\n",
        "df1.head()"
      ],
      "execution_count": null,
      "outputs": []
    },
    {
      "cell_type": "code",
      "metadata": {
        "id": "WC7SkUNJrEWS"
      },
      "source": [
        "df1.shape"
      ],
      "execution_count": null,
      "outputs": []
    },
    {
      "cell_type": "markdown",
      "metadata": {
        "id": "gdK0t8Q5mXC1"
      },
      "source": [
        "## Sentiment Scores"
      ]
    },
    {
      "cell_type": "code",
      "metadata": {
        "id": "15sdtscLncQq"
      },
      "source": [
        "!pip install vaderSentiment"
      ],
      "execution_count": null,
      "outputs": []
    },
    {
      "cell_type": "code",
      "metadata": {
        "id": "u6MVlYlInFB-"
      },
      "source": [
        "from vaderSentiment.vaderSentiment import SentimentIntensityAnalyzer"
      ],
      "execution_count": null,
      "outputs": []
    },
    {
      "cell_type": "code",
      "metadata": {
        "id": "QCeNhjV4nQRF"
      },
      "source": [
        "def getSIA(text):\n",
        "  sia = SentimentIntensityAnalyzer()\n",
        "  sentiment= sia.polarity_scores(text)\n",
        "  return sentiment"
      ],
      "execution_count": null,
      "outputs": []
    },
    {
      "cell_type": "code",
      "metadata": {
        "id": "jh2KxtiLn3rK"
      },
      "source": [
        "compound = []\n",
        "neg = []\n",
        "neu = []\n",
        "pos = []\n",
        "\n",
        "for i in range(0, len(df1['text_clean'])):\n",
        "    SIA = getSIA(df1['text_clean'][i])\n",
        "    compound.append(SIA['compound'])\n",
        "    neg.append(SIA['neg'])\n",
        "    neu.append(SIA['neu'])\n",
        "    pos.append(SIA['pos'])"
      ],
      "execution_count": null,
      "outputs": []
    },
    {
      "cell_type": "code",
      "metadata": {
        "id": "X2TwuGpGollY"
      },
      "source": [
        "df1['compound'] = compound\n",
        "df1['negative'] = neg\n",
        "df1['positive'] = pos\n",
        "df1['neutral'] = neu"
      ],
      "execution_count": null,
      "outputs": []
    },
    {
      "cell_type": "code",
      "metadata": {
        "id": "SF1xUWdArVUW"
      },
      "source": [
        "df1.head()"
      ],
      "execution_count": null,
      "outputs": []
    },
    {
      "cell_type": "code",
      "metadata": {
        "id": "L9DngAwjrYGP"
      },
      "source": [
        "df1.to_csv('sent_clasif.csv', index=False)"
      ],
      "execution_count": null,
      "outputs": []
    },
    {
      "cell_type": "code",
      "metadata": {
        "id": "fyVeP_oNsSh7"
      },
      "source": [
        "df1.columns"
      ],
      "execution_count": null,
      "outputs": []
    },
    {
      "cell_type": "markdown",
      "metadata": {
        "id": "uQh94FrIrpGS"
      },
      "source": [
        "### Feature selection"
      ]
    },
    {
      "cell_type": "code",
      "metadata": {
        "id": "cgGJbcp3sN9o"
      },
      "source": [
        "keep_columns = ['Sentiment',  'polarity', 'subjectivity', 'compound', 'negative', 'positive', 'neutral']\n",
        "data = df1[keep_columns]\n",
        "data.head()"
      ],
      "execution_count": null,
      "outputs": []
    },
    {
      "cell_type": "code",
      "metadata": {
        "id": "gnMwaA4ltghB"
      },
      "source": [
        "X = data.drop('Sentiment', axis =1)\n",
        "y = data['Sentiment']\n",
        "X.shape, y.shape"
      ],
      "execution_count": null,
      "outputs": []
    },
    {
      "cell_type": "markdown",
      "metadata": {
        "id": "e1ZKkZaytyGR"
      },
      "source": [
        "Split into Train and Test"
      ]
    },
    {
      "cell_type": "code",
      "metadata": {
        "id": "W75y3NxUt3tL"
      },
      "source": [
        "from sklearn.model_selection import train_test_split"
      ],
      "execution_count": null,
      "outputs": []
    },
    {
      "cell_type": "code",
      "metadata": {
        "id": "V9rEG_Nft6ex"
      },
      "source": [
        "X_train, X_test, y_train, y_test = train_test_split(X, y, test_size = .2, random_state= 42)"
      ],
      "execution_count": null,
      "outputs": []
    },
    {
      "cell_type": "markdown",
      "metadata": {
        "id": "THYTitdCuFmk"
      },
      "source": [
        "Build Model"
      ]
    },
    {
      "cell_type": "code",
      "metadata": {
        "id": "nhaL50kuuKlU"
      },
      "source": [
        "from sklearn.discriminant_analysis import LinearDiscriminantAnalysis"
      ],
      "execution_count": null,
      "outputs": []
    },
    {
      "cell_type": "code",
      "metadata": {
        "id": "iQXLN9EVuUP4"
      },
      "source": [
        "model = LinearDiscriminantAnalysis()\n",
        "model.fit(X_train, y_train)"
      ],
      "execution_count": null,
      "outputs": []
    },
    {
      "cell_type": "code",
      "metadata": {
        "id": "4NUlT6aDuY6u"
      },
      "source": [
        "yhat = model.predict(X_test)"
      ],
      "execution_count": null,
      "outputs": []
    },
    {
      "cell_type": "code",
      "metadata": {
        "id": "_qayW76yue91"
      },
      "source": [
        "result = pd.DataFrame({'actual': y_test, 'predicted': yhat})\n",
        "result.head()"
      ],
      "execution_count": null,
      "outputs": []
    },
    {
      "cell_type": "code",
      "metadata": {
        "id": "e09eDqbfuuS9"
      },
      "source": [
        "result['diferencia'] = result['actual'] - result['predicted']"
      ],
      "execution_count": null,
      "outputs": []
    },
    {
      "cell_type": "code",
      "metadata": {
        "id": "Us53wi89u4JL"
      },
      "source": [
        "result['diferencia'].value_counts()"
      ],
      "execution_count": null,
      "outputs": []
    },
    {
      "cell_type": "code",
      "metadata": {
        "id": "xNcFOuHVvmgI"
      },
      "source": [
        "result['diferencia'].value_counts().plot(kind = 'barh')\n",
        "plt.show()"
      ],
      "execution_count": null,
      "outputs": []
    },
    {
      "cell_type": "code",
      "metadata": {
        "id": "Rq8G1iOEvD6y"
      },
      "source": [
        "result[result['diferencia']>0].head()"
      ],
      "execution_count": null,
      "outputs": []
    },
    {
      "cell_type": "code",
      "metadata": {
        "id": "MFcRPEf6vNdz"
      },
      "source": [
        "result[result['diferencia']<0]"
      ],
      "execution_count": null,
      "outputs": []
    },
    {
      "cell_type": "markdown",
      "metadata": {
        "id": "LW0DO0X0vckD"
      },
      "source": [
        "### score"
      ]
    },
    {
      "cell_type": "code",
      "metadata": {
        "id": "0r2oZP2rv1nZ"
      },
      "source": [
        "from sklearn.metrics import  classification_report"
      ],
      "execution_count": null,
      "outputs": []
    },
    {
      "cell_type": "code",
      "metadata": {
        "id": "-ipSEjHfv5Od"
      },
      "source": [
        "print(classification_report(y_test, yhat))"
      ],
      "execution_count": null,
      "outputs": []
    }
  ]
}