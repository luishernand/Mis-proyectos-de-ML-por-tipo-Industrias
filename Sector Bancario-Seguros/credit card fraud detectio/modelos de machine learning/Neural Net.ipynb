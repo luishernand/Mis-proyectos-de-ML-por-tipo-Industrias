{
 "cells": [
  {
   "cell_type": "markdown",
   "id": "great-graph",
   "metadata": {},
   "source": [
    "# Neural Network"
   ]
  },
  {
   "cell_type": "markdown",
   "id": "relevant-beginning",
   "metadata": {},
   "source": [
    "## 0. Libraries"
   ]
  },
  {
   "cell_type": "code",
   "execution_count": 1,
   "id": "greatest-wheel",
   "metadata": {},
   "outputs": [],
   "source": [
    "import numpy as np\n",
    "import pandas as pd\n",
    "import matplotlib.pyplot as plt"
   ]
  },
  {
   "cell_type": "markdown",
   "id": "compliant-suicide",
   "metadata": {},
   "source": [
    "## 1. Read data"
   ]
  },
  {
   "cell_type": "code",
   "execution_count": 2,
   "id": "adapted-chair",
   "metadata": {},
   "outputs": [],
   "source": [
    "df = pd.read_csv('creditcard.csv', low_memory=False)"
   ]
  },
  {
   "cell_type": "code",
   "execution_count": 3,
   "id": "relative-depression",
   "metadata": {},
   "outputs": [
    {
     "data": {
      "text/html": [
       "<div>\n",
       "<style scoped>\n",
       "    .dataframe tbody tr th:only-of-type {\n",
       "        vertical-align: middle;\n",
       "    }\n",
       "\n",
       "    .dataframe tbody tr th {\n",
       "        vertical-align: top;\n",
       "    }\n",
       "\n",
       "    .dataframe thead th {\n",
       "        text-align: right;\n",
       "    }\n",
       "</style>\n",
       "<table border=\"1\" class=\"dataframe\">\n",
       "  <thead>\n",
       "    <tr style=\"text-align: right;\">\n",
       "      <th></th>\n",
       "      <th>Time</th>\n",
       "      <th>V1</th>\n",
       "      <th>V2</th>\n",
       "      <th>V3</th>\n",
       "      <th>V4</th>\n",
       "      <th>V5</th>\n",
       "      <th>V6</th>\n",
       "      <th>V7</th>\n",
       "      <th>V8</th>\n",
       "      <th>V9</th>\n",
       "      <th>...</th>\n",
       "      <th>V21</th>\n",
       "      <th>V22</th>\n",
       "      <th>V23</th>\n",
       "      <th>V24</th>\n",
       "      <th>V25</th>\n",
       "      <th>V26</th>\n",
       "      <th>V27</th>\n",
       "      <th>V28</th>\n",
       "      <th>Amount</th>\n",
       "      <th>Class</th>\n",
       "    </tr>\n",
       "  </thead>\n",
       "  <tbody>\n",
       "    <tr>\n",
       "      <th>0</th>\n",
       "      <td>0.0</td>\n",
       "      <td>-1.359807</td>\n",
       "      <td>-0.072781</td>\n",
       "      <td>2.536347</td>\n",
       "      <td>1.378155</td>\n",
       "      <td>-0.338321</td>\n",
       "      <td>0.462388</td>\n",
       "      <td>0.239599</td>\n",
       "      <td>0.098698</td>\n",
       "      <td>0.363787</td>\n",
       "      <td>...</td>\n",
       "      <td>-0.018307</td>\n",
       "      <td>0.277838</td>\n",
       "      <td>-0.110474</td>\n",
       "      <td>0.066928</td>\n",
       "      <td>0.128539</td>\n",
       "      <td>-0.189115</td>\n",
       "      <td>0.133558</td>\n",
       "      <td>-0.021053</td>\n",
       "      <td>149.62</td>\n",
       "      <td>0</td>\n",
       "    </tr>\n",
       "    <tr>\n",
       "      <th>1</th>\n",
       "      <td>0.0</td>\n",
       "      <td>1.191857</td>\n",
       "      <td>0.266151</td>\n",
       "      <td>0.166480</td>\n",
       "      <td>0.448154</td>\n",
       "      <td>0.060018</td>\n",
       "      <td>-0.082361</td>\n",
       "      <td>-0.078803</td>\n",
       "      <td>0.085102</td>\n",
       "      <td>-0.255425</td>\n",
       "      <td>...</td>\n",
       "      <td>-0.225775</td>\n",
       "      <td>-0.638672</td>\n",
       "      <td>0.101288</td>\n",
       "      <td>-0.339846</td>\n",
       "      <td>0.167170</td>\n",
       "      <td>0.125895</td>\n",
       "      <td>-0.008983</td>\n",
       "      <td>0.014724</td>\n",
       "      <td>2.69</td>\n",
       "      <td>0</td>\n",
       "    </tr>\n",
       "  </tbody>\n",
       "</table>\n",
       "<p>2 rows × 31 columns</p>\n",
       "</div>"
      ],
      "text/plain": [
       "   Time        V1        V2        V3        V4        V5        V6        V7  \\\n",
       "0   0.0 -1.359807 -0.072781  2.536347  1.378155 -0.338321  0.462388  0.239599   \n",
       "1   0.0  1.191857  0.266151  0.166480  0.448154  0.060018 -0.082361 -0.078803   \n",
       "\n",
       "         V8        V9  ...       V21       V22       V23       V24       V25  \\\n",
       "0  0.098698  0.363787  ... -0.018307  0.277838 -0.110474  0.066928  0.128539   \n",
       "1  0.085102 -0.255425  ... -0.225775 -0.638672  0.101288 -0.339846  0.167170   \n",
       "\n",
       "        V26       V27       V28  Amount  Class  \n",
       "0 -0.189115  0.133558 -0.021053  149.62      0  \n",
       "1  0.125895 -0.008983  0.014724    2.69      0  \n",
       "\n",
       "[2 rows x 31 columns]"
      ]
     },
     "execution_count": 3,
     "metadata": {},
     "output_type": "execute_result"
    }
   ],
   "source": [
    "df.head(2)"
   ]
  },
  {
   "cell_type": "code",
   "execution_count": 4,
   "id": "immediate-clause",
   "metadata": {},
   "outputs": [
    {
     "data": {
      "text/plain": [
       "(284807, 31)"
      ]
     },
     "execution_count": 4,
     "metadata": {},
     "output_type": "execute_result"
    }
   ],
   "source": [
    "df.shape"
   ]
  },
  {
   "cell_type": "markdown",
   "id": "laughing-brass",
   "metadata": {},
   "source": [
    "## 2. Data Prep"
   ]
  },
  {
   "cell_type": "code",
   "execution_count": 6,
   "id": "sound-cassette",
   "metadata": {},
   "outputs": [],
   "source": [
    "from sklearn.model_selection import train_test_split\n",
    "from sklearn.preprocessing import StandardScaler\n",
    "from imblearn.under_sampling import RandomUnderSampler"
   ]
  },
  {
   "cell_type": "markdown",
   "id": "organic-saudi",
   "metadata": {},
   "source": [
    "### Feature Selection"
   ]
  },
  {
   "cell_type": "code",
   "execution_count": 9,
   "id": "handy-seeker",
   "metadata": {},
   "outputs": [],
   "source": [
    "X = df.drop('Class', axis =1)\n",
    "y = df['Class']"
   ]
  },
  {
   "cell_type": "markdown",
   "id": "average-pipeline",
   "metadata": {},
   "source": [
    "### Balanced dataset"
   ]
  },
  {
   "cell_type": "code",
   "execution_count": 11,
   "id": "tired-cradle",
   "metadata": {},
   "outputs": [],
   "source": [
    "rus = RandomUnderSampler(random_state=123)\n",
    "X, y = rus.fit_resample(X,y)"
   ]
  },
  {
   "cell_type": "code",
   "execution_count": 13,
   "id": "measured-break",
   "metadata": {},
   "outputs": [
    {
     "data": {
      "text/plain": [
       "0    492\n",
       "1    492\n",
       "Name: Class, dtype: int64"
      ]
     },
     "execution_count": 13,
     "metadata": {},
     "output_type": "execute_result"
    }
   ],
   "source": [
    "y.value_counts()"
   ]
  },
  {
   "cell_type": "code",
   "execution_count": 14,
   "id": "naughty-alloy",
   "metadata": {},
   "outputs": [],
   "source": [
    "X_train, X_test, y_train, y_test = train_test_split(X, y, test_size = 0.20, random_state=0, stratify=y)"
   ]
  },
  {
   "cell_type": "code",
   "execution_count": null,
   "id": "stone-customer",
   "metadata": {},
   "outputs": [],
   "source": [
    "sc = StandardScaler()\n",
    "X_train = sc.fit_transform(X_train)\n",
    "X_test = sc.transform(X_test)"
   ]
  },
  {
   "cell_type": "code",
   "execution_count": 18,
   "id": "saving-finnish",
   "metadata": {},
   "outputs": [],
   "source": [
    "X_train = X_train.to_numpy()\n",
    "X_test= X_test.to_numpy()"
   ]
  },
  {
   "cell_type": "code",
   "execution_count": 19,
   "id": "superb-benjamin",
   "metadata": {},
   "outputs": [
    {
     "data": {
      "text/plain": [
       "((787, 30), (197,))"
      ]
     },
     "execution_count": 19,
     "metadata": {},
     "output_type": "execute_result"
    }
   ],
   "source": [
    "X_train.shape, y_test.shape"
   ]
  },
  {
   "cell_type": "code",
   "execution_count": 20,
   "id": "secondary-timothy",
   "metadata": {},
   "outputs": [
    {
     "data": {
      "text/plain": [
       "((197, 30), (197,))"
      ]
     },
     "execution_count": 20,
     "metadata": {},
     "output_type": "execute_result"
    }
   ],
   "source": [
    "X_test.shape,y_test.shape"
   ]
  },
  {
   "cell_type": "markdown",
   "id": "elegant-cricket",
   "metadata": {},
   "source": [
    "### Reshape data"
   ]
  },
  {
   "cell_type": "code",
   "execution_count": 22,
   "id": "animal-dodge",
   "metadata": {},
   "outputs": [
    {
     "data": {
      "text/plain": [
       "((787, 30, 1), (197, 30, 1))"
      ]
     },
     "execution_count": 22,
     "metadata": {},
     "output_type": "execute_result"
    }
   ],
   "source": [
    "X_train = X_train.reshape(X_train.shape[0], X_train.shape[1], 1)\n",
    "X_test = X_test.reshape(X_test.shape[0], X_test.shape[1], 1)\n",
    "X_train.shape, X_test.shape"
   ]
  },
  {
   "cell_type": "markdown",
   "id": "appointed-policy",
   "metadata": {},
   "source": [
    "## 3. Build a Neural Net"
   ]
  },
  {
   "cell_type": "code",
   "execution_count": 39,
   "id": "august-suggestion",
   "metadata": {},
   "outputs": [],
   "source": [
    "from keras.models import Sequential\n",
    "from keras.layers import Dense, Convolution1D, Flatten, Dropout, MaxPooling1D, BatchNormalization, Conv1D, MaxPool1D\n",
    "from keras.optimizers import Adam\n",
    "import tensorflow as tf"
   ]
  },
  {
   "cell_type": "code",
   "execution_count": 27,
   "id": "billion-addiction",
   "metadata": {},
   "outputs": [],
   "source": [
    "model = Sequential()\n",
    "model.add(Conv1D(32, 2, activation='relu', input_shape = X_train[0].shape))\n",
    "model.add(BatchNormalization())\n",
    "model.add(Dropout(0.2))\n",
    "\n",
    "model.add(Conv1D(64,2,  activation='relu'))\n",
    "model.add(BatchNormalization())\n",
    "model.add(Dropout(0.5))\n",
    "\n",
    "model.add(Flatten())\n",
    "model.add(Dense(64, activation='relu'))\n",
    "model.add(Dropout(0.5))\n",
    "\n",
    "\n",
    "model.add(Dense(1, activation='sigmoid'))"
   ]
  },
  {
   "cell_type": "code",
   "execution_count": 28,
   "id": "apparent-simulation",
   "metadata": {},
   "outputs": [
    {
     "name": "stdout",
     "output_type": "stream",
     "text": [
      "Model: \"sequential\"\n",
      "_________________________________________________________________\n",
      "Layer (type)                 Output Shape              Param #   \n",
      "=================================================================\n",
      "conv1d (Conv1D)              (None, 29, 32)            96        \n",
      "_________________________________________________________________\n",
      "batch_normalization (BatchNo (None, 29, 32)            128       \n",
      "_________________________________________________________________\n",
      "dropout (Dropout)            (None, 29, 32)            0         \n",
      "_________________________________________________________________\n",
      "conv1d_1 (Conv1D)            (None, 28, 64)            4160      \n",
      "_________________________________________________________________\n",
      "batch_normalization_1 (Batch (None, 28, 64)            256       \n",
      "_________________________________________________________________\n",
      "dropout_1 (Dropout)          (None, 28, 64)            0         \n",
      "_________________________________________________________________\n",
      "flatten (Flatten)            (None, 1792)              0         \n",
      "_________________________________________________________________\n",
      "dense (Dense)                (None, 64)                114752    \n",
      "_________________________________________________________________\n",
      "dropout_2 (Dropout)          (None, 64)                0         \n",
      "_________________________________________________________________\n",
      "dense_1 (Dense)              (None, 1)                 65        \n",
      "=================================================================\n",
      "Total params: 119,457\n",
      "Trainable params: 119,265\n",
      "Non-trainable params: 192\n",
      "_________________________________________________________________\n"
     ]
    }
   ],
   "source": [
    "model.summary()"
   ]
  },
  {
   "cell_type": "code",
   "execution_count": 29,
   "id": "reverse-melissa",
   "metadata": {},
   "outputs": [],
   "source": [
    "model.compile(optimizer=Adam(lr=0.0001), loss='binary_crossentropy',  metrics=['accuracy'])"
   ]
  },
  {
   "cell_type": "code",
   "execution_count": 34,
   "id": "revolutionary-dispatch",
   "metadata": {},
   "outputs": [
    {
     "name": "stdout",
     "output_type": "stream",
     "text": [
      "Epoch 1/20\n",
      "25/25 [==============================] - 1s 38ms/step - loss: 0.1913 - accuracy: 0.9301 - val_loss: 0.2296 - val_accuracy: 0.9086\n",
      "Epoch 2/20\n",
      "25/25 [==============================] - 0s 16ms/step - loss: 0.2146 - accuracy: 0.9314 - val_loss: 0.2221 - val_accuracy: 0.9086\n",
      "Epoch 3/20\n",
      "25/25 [==============================] - 0s 15ms/step - loss: 0.1991 - accuracy: 0.9288 - val_loss: 0.2207 - val_accuracy: 0.9086\n",
      "Epoch 4/20\n",
      "25/25 [==============================] - 0s 17ms/step - loss: 0.1790 - accuracy: 0.9327 - val_loss: 0.2210 - val_accuracy: 0.9086\n",
      "Epoch 5/20\n",
      "25/25 [==============================] - 0s 16ms/step - loss: 0.2068 - accuracy: 0.9352 - val_loss: 0.2129 - val_accuracy: 0.9086\n",
      "Epoch 6/20\n",
      "25/25 [==============================] - 0s 17ms/step - loss: 0.1899 - accuracy: 0.9327 - val_loss: 0.2131 - val_accuracy: 0.9086\n",
      "Epoch 7/20\n",
      "25/25 [==============================] - 0s 16ms/step - loss: 0.2001 - accuracy: 0.9276 - val_loss: 0.2093 - val_accuracy: 0.9086\n",
      "Epoch 8/20\n",
      "25/25 [==============================] - 0s 17ms/step - loss: 0.1922 - accuracy: 0.9301 - val_loss: 0.2149 - val_accuracy: 0.9086\n",
      "Epoch 9/20\n",
      "25/25 [==============================] - 0s 18ms/step - loss: 0.1790 - accuracy: 0.9301 - val_loss: 0.2125 - val_accuracy: 0.9086\n",
      "Epoch 10/20\n",
      "25/25 [==============================] - 0s 18ms/step - loss: 0.1829 - accuracy: 0.9314 - val_loss: 0.2109 - val_accuracy: 0.9086\n",
      "Epoch 11/20\n",
      "25/25 [==============================] - 0s 18ms/step - loss: 0.1926 - accuracy: 0.9301 - val_loss: 0.2104 - val_accuracy: 0.9086\n",
      "Epoch 12/20\n",
      "25/25 [==============================] - 0s 16ms/step - loss: 0.1840 - accuracy: 0.9377 - val_loss: 0.2132 - val_accuracy: 0.9086\n",
      "Epoch 13/20\n",
      "25/25 [==============================] - 0s 16ms/step - loss: 0.1813 - accuracy: 0.9403 - val_loss: 0.2140 - val_accuracy: 0.9086\n",
      "Epoch 14/20\n",
      "25/25 [==============================] - 0s 17ms/step - loss: 0.1557 - accuracy: 0.9377 - val_loss: 0.2149 - val_accuracy: 0.9086\n",
      "Epoch 15/20\n",
      "25/25 [==============================] - 0s 16ms/step - loss: 0.1922 - accuracy: 0.9365 - val_loss: 0.2116 - val_accuracy: 0.9086\n",
      "Epoch 16/20\n",
      "25/25 [==============================] - 0s 16ms/step - loss: 0.1939 - accuracy: 0.9314 - val_loss: 0.2109 - val_accuracy: 0.9086\n",
      "Epoch 17/20\n",
      "25/25 [==============================] - 0s 16ms/step - loss: 0.1723 - accuracy: 0.9390 - val_loss: 0.2110 - val_accuracy: 0.9086\n",
      "Epoch 18/20\n",
      "25/25 [==============================] - 0s 17ms/step - loss: 0.1966 - accuracy: 0.9276 - val_loss: 0.2106 - val_accuracy: 0.9086\n",
      "Epoch 19/20\n",
      "25/25 [==============================] - 0s 18ms/step - loss: 0.1805 - accuracy: 0.9288 - val_loss: 0.2121 - val_accuracy: 0.9086\n",
      "Epoch 20/20\n",
      "25/25 [==============================] - 0s 17ms/step - loss: 0.1821 - accuracy: 0.9365 - val_loss: 0.2059 - val_accuracy: 0.9137\n"
     ]
    }
   ],
   "source": [
    "history = model.fit(X_train, y_train, epochs=20, verbose=1, validation_data=(X_test, y_test))"
   ]
  },
  {
   "cell_type": "markdown",
   "id": "piano-silence",
   "metadata": {},
   "source": [
    "### Visualize results"
   ]
  },
  {
   "cell_type": "code",
   "execution_count": 35,
   "id": "buried-offset",
   "metadata": {},
   "outputs": [],
   "source": [
    "epoch = 20"
   ]
  },
  {
   "cell_type": "code",
   "execution_count": 37,
   "id": "specified-holocaust",
   "metadata": {},
   "outputs": [],
   "source": [
    "def plot_learningCurve(history, epoch):\n",
    "  # Plot training & validation accuracy values\n",
    "  epoch_range = range(1, epoch+1)\n",
    "  plt.plot(epoch_range, history.history['accuracy'])\n",
    "  plt.plot(epoch_range, history.history['val_accuracy'])\n",
    "  plt.title('Model accuracy')\n",
    "  plt.ylabel('Accuracy')\n",
    "  plt.xlabel('Epoch')\n",
    "  plt.legend(['Train', 'Val'], loc='upper left')\n",
    "  plt.show()\n",
    "\n",
    "  # Plot training & validation loss values\n",
    "  plt.plot(epoch_range, history.history['loss'])\n",
    "  plt.plot(epoch_range, history.history['val_loss'])\n",
    "  plt.title('Model loss')\n",
    "  plt.ylabel('Loss')\n",
    "  plt.xlabel('Epoch')\n",
    "  plt.legend(['Train', 'Val'], loc='upper left')\n",
    "  plt.show()"
   ]
  },
  {
   "cell_type": "code",
   "execution_count": 38,
   "id": "regional-helicopter",
   "metadata": {},
   "outputs": [
    {
     "data": {
      "image/png": "[encoded data removed]",
      "text/plain": [
       "<Figure size 432x288 with 1 Axes>"
      ]
     },
     "metadata": {
      "needs_background": "light"
     },
     "output_type": "display_data"
    },
    {
     "data": {
      "image/png": "[encoded data removed]",
      "text/plain": [
       "<Figure size 432x288 with 1 Axes>"
      ]
     },
     "metadata": {
      "needs_background": "light"
     },
     "output_type": "display_data"
    }
   ],
   "source": [
    "plot_learningCurve(history, epoch)"
   ]
  },
  {
   "cell_type": "markdown",
   "id": "quality-bangkok",
   "metadata": {},
   "source": [
    "### Adding MaxPoling"
   ]
  },
  {
   "cell_type": "code",
   "execution_count": 40,
   "id": "desirable-brake",
   "metadata": {},
   "outputs": [],
   "source": [
    "epoch = 50\n",
    "model = Sequential()\n",
    "model.add(Conv1D(32, 2, activation='relu', input_shape = X_train[0].shape))\n",
    "model.add(BatchNormalization())\n",
    "model.add(MaxPool1D(2))\n",
    "model.add(Dropout(0.2))\n",
    "\n",
    "model.add(Conv1D(64,2,  activation='relu'))\n",
    "model.add(BatchNormalization())\n",
    "model.add(MaxPool1D(2))\n",
    "model.add(Dropout(0.5))\n",
    "\n",
    "model.add(Flatten())\n",
    "model.add(Dense(64, activation='relu'))\n",
    "model.add(Dropout(0.5))\n",
    "\n",
    "\n",
    "model.add(Dense(1, activation='sigmoid'))"
   ]
  },
  {
   "cell_type": "code",
   "execution_count": 41,
   "id": "cooperative-breakdown",
   "metadata": {},
   "outputs": [
    {
     "name": "stdout",
     "output_type": "stream",
     "text": [
      "Model: \"sequential_1\"\n",
      "_________________________________________________________________\n",
      "Layer (type)                 Output Shape              Param #   \n",
      "=================================================================\n",
      "conv1d_2 (Conv1D)            (None, 29, 32)            96        \n",
      "_________________________________________________________________\n",
      "batch_normalization_2 (Batch (None, 29, 32)            128       \n",
      "_________________________________________________________________\n",
      "max_pooling1d (MaxPooling1D) (None, 14, 32)            0         \n",
      "_________________________________________________________________\n",
      "dropout_3 (Dropout)          (None, 14, 32)            0         \n",
      "_________________________________________________________________\n",
      "conv1d_3 (Conv1D)            (None, 13, 64)            4160      \n",
      "_________________________________________________________________\n",
      "batch_normalization_3 (Batch (None, 13, 64)            256       \n",
      "_________________________________________________________________\n",
      "max_pooling1d_1 (MaxPooling1 (None, 6, 64)             0         \n",
      "_________________________________________________________________\n",
      "dropout_4 (Dropout)          (None, 6, 64)             0         \n",
      "_________________________________________________________________\n",
      "flatten_1 (Flatten)          (None, 384)               0         \n",
      "_________________________________________________________________\n",
      "dense_2 (Dense)              (None, 64)                24640     \n",
      "_________________________________________________________________\n",
      "dropout_5 (Dropout)          (None, 64)                0         \n",
      "_________________________________________________________________\n",
      "dense_3 (Dense)              (None, 1)                 65        \n",
      "=================================================================\n",
      "Total params: 29,345\n",
      "Trainable params: 29,153\n",
      "Non-trainable params: 192\n",
      "_________________________________________________________________\n"
     ]
    }
   ],
   "source": [
    "model.summary()"
   ]
  },
  {
   "cell_type": "code",
   "execution_count": 42,
   "id": "amazing-poverty",
   "metadata": {},
   "outputs": [],
   "source": [
    "model.compile(optimizer=Adam(lr=0.0001), loss='binary_crossentropy',  metrics=['accuracy'])"
   ]
  },
  {
   "cell_type": "code",
   "execution_count": 43,
   "id": "existing-company",
   "metadata": {
    "scrolled": false
   },
   "outputs": [
    {
     "name": "stdout",
     "output_type": "stream",
     "text": [
      "Epoch 1/50\n",
      "25/25 [==============================] - 3s 30ms/step - loss: 1.0997 - accuracy: 0.5423 - val_loss: 0.6112 - val_accuracy: 0.4975\n",
      "Epoch 2/50\n",
      "25/25 [==============================] - 0s 13ms/step - loss: 0.6580 - accuracy: 0.7156 - val_loss: 0.4582 - val_accuracy: 0.8629\n",
      "Epoch 3/50\n",
      "25/25 [==============================] - 0s 13ms/step - loss: 0.6063 - accuracy: 0.7706 - val_loss: 0.3882 - val_accuracy: 0.8934\n",
      "Epoch 4/50\n",
      "25/25 [==============================] - 0s 14ms/step - loss: 0.5217 - accuracy: 0.7976 - val_loss: 0.3545 - val_accuracy: 0.8731\n",
      "Epoch 5/50\n",
      "25/25 [==============================] - 0s 13ms/step - loss: 0.4577 - accuracy: 0.8286 - val_loss: 0.3253 - val_accuracy: 0.8883\n",
      "Epoch 6/50\n",
      "25/25 [==============================] - 0s 13ms/step - loss: 0.4113 - accuracy: 0.8485 - val_loss: 0.3074 - val_accuracy: 0.8985\n",
      "Epoch 7/50\n",
      "25/25 [==============================] - 0s 13ms/step - loss: 0.4672 - accuracy: 0.8063 - val_loss: 0.2956 - val_accuracy: 0.8985\n",
      "Epoch 8/50\n",
      "25/25 [==============================] - 0s 14ms/step - loss: 0.3399 - accuracy: 0.8703 - val_loss: 0.2863 - val_accuracy: 0.8985\n",
      "Epoch 9/50\n",
      "25/25 [==============================] - 0s 14ms/step - loss: 0.3334 - accuracy: 0.8658 - val_loss: 0.2807 - val_accuracy: 0.8985\n",
      "Epoch 10/50\n",
      "25/25 [==============================] - 0s 14ms/step - loss: 0.3679 - accuracy: 0.8734 - val_loss: 0.2775 - val_accuracy: 0.8985\n",
      "Epoch 11/50\n",
      "25/25 [==============================] - 0s 14ms/step - loss: 0.3579 - accuracy: 0.8850 - val_loss: 0.2746 - val_accuracy: 0.8934\n",
      "Epoch 12/50\n",
      "25/25 [==============================] - 0s 14ms/step - loss: 0.3596 - accuracy: 0.8713 - val_loss: 0.2728 - val_accuracy: 0.8934\n",
      "Epoch 13/50\n",
      "25/25 [==============================] - 0s 13ms/step - loss: 0.3654 - accuracy: 0.8738 - val_loss: 0.2711 - val_accuracy: 0.8934\n",
      "Epoch 14/50\n",
      "25/25 [==============================] - 0s 13ms/step - loss: 0.3627 - accuracy: 0.8720 - val_loss: 0.2708 - val_accuracy: 0.8934\n",
      "Epoch 15/50\n",
      "25/25 [==============================] - 0s 13ms/step - loss: 0.3734 - accuracy: 0.8787 - val_loss: 0.2693 - val_accuracy: 0.8985\n",
      "Epoch 16/50\n",
      "25/25 [==============================] - 0s 15ms/step - loss: 0.3907 - accuracy: 0.8536 - val_loss: 0.2687 - val_accuracy: 0.9036\n",
      "Epoch 17/50\n",
      "25/25 [==============================] - 0s 13ms/step - loss: 0.3106 - accuracy: 0.8914 - val_loss: 0.2675 - val_accuracy: 0.9036\n",
      "Epoch 18/50\n",
      "25/25 [==============================] - 0s 15ms/step - loss: 0.2784 - accuracy: 0.9050 - val_loss: 0.2612 - val_accuracy: 0.8985\n",
      "Epoch 19/50\n",
      "25/25 [==============================] - 0s 13ms/step - loss: 0.3169 - accuracy: 0.8874 - val_loss: 0.2594 - val_accuracy: 0.8985\n",
      "Epoch 20/50\n",
      "25/25 [==============================] - 0s 14ms/step - loss: 0.2925 - accuracy: 0.9076 - val_loss: 0.2595 - val_accuracy: 0.8985\n",
      "Epoch 21/50\n",
      "25/25 [==============================] - 0s 13ms/step - loss: 0.3068 - accuracy: 0.8870 - val_loss: 0.2597 - val_accuracy: 0.8985\n",
      "Epoch 22/50\n",
      "25/25 [==============================] - 0s 14ms/step - loss: 0.3089 - accuracy: 0.8858 - val_loss: 0.2586 - val_accuracy: 0.8985\n",
      "Epoch 23/50\n",
      "25/25 [==============================] - 0s 14ms/step - loss: 0.3741 - accuracy: 0.8838 - val_loss: 0.2546 - val_accuracy: 0.8985\n",
      "Epoch 24/50\n",
      "25/25 [==============================] - 0s 14ms/step - loss: 0.3200 - accuracy: 0.8985 - val_loss: 0.2541 - val_accuracy: 0.8985\n",
      "Epoch 25/50\n",
      "25/25 [==============================] - 0s 13ms/step - loss: 0.3059 - accuracy: 0.9007 - val_loss: 0.2531 - val_accuracy: 0.8985\n",
      "Epoch 26/50\n",
      "25/25 [==============================] - 0s 13ms/step - loss: 0.3209 - accuracy: 0.8924 - val_loss: 0.2538 - val_accuracy: 0.8985\n",
      "Epoch 27/50\n",
      "25/25 [==============================] - 0s 13ms/step - loss: 0.2083 - accuracy: 0.9194 - val_loss: 0.2543 - val_accuracy: 0.8985\n",
      "Epoch 28/50\n",
      "25/25 [==============================] - 0s 13ms/step - loss: 0.2803 - accuracy: 0.9000 - val_loss: 0.2521 - val_accuracy: 0.8985\n",
      "Epoch 29/50\n",
      "25/25 [==============================] - 0s 13ms/step - loss: 0.2452 - accuracy: 0.9085 - val_loss: 0.2544 - val_accuracy: 0.8985\n",
      "Epoch 30/50\n",
      "25/25 [==============================] - 0s 16ms/step - loss: 0.2331 - accuracy: 0.9230 - val_loss: 0.2537 - val_accuracy: 0.8985\n",
      "Epoch 31/50\n",
      "25/25 [==============================] - 0s 14ms/step - loss: 0.2831 - accuracy: 0.8965 - val_loss: 0.2542 - val_accuracy: 0.8985\n",
      "Epoch 32/50\n",
      "25/25 [==============================] - 0s 15ms/step - loss: 0.2739 - accuracy: 0.9010 - val_loss: 0.2524 - val_accuracy: 0.8985\n",
      "Epoch 33/50\n",
      "25/25 [==============================] - 0s 17ms/step - loss: 0.2616 - accuracy: 0.9041 - val_loss: 0.2531 - val_accuracy: 0.8985\n",
      "Epoch 34/50\n",
      "25/25 [==============================] - 0s 17ms/step - loss: 0.2817 - accuracy: 0.9026 - val_loss: 0.2525 - val_accuracy: 0.8985\n",
      "Epoch 35/50\n",
      "25/25 [==============================] - 0s 16ms/step - loss: 0.2186 - accuracy: 0.9314 - val_loss: 0.2513 - val_accuracy: 0.8985\n",
      "Epoch 36/50\n",
      "25/25 [==============================] - 0s 17ms/step - loss: 0.2167 - accuracy: 0.9292 - val_loss: 0.2512 - val_accuracy: 0.8985\n",
      "Epoch 37/50\n",
      "25/25 [==============================] - 0s 15ms/step - loss: 0.2374 - accuracy: 0.9097 - val_loss: 0.2499 - val_accuracy: 0.8985\n",
      "Epoch 38/50\n",
      "25/25 [==============================] - 0s 13ms/step - loss: 0.2878 - accuracy: 0.8968 - val_loss: 0.2483 - val_accuracy: 0.9036\n",
      "Epoch 39/50\n",
      "25/25 [==============================] - ETA: 0s - loss: 0.2046 - accuracy: 0.93 - 0s 15ms/step - loss: 0.2061 - accuracy: 0.9320 - val_loss: 0.2488 - val_accuracy: 0.9036\n",
      "Epoch 40/50\n",
      "25/25 [==============================] - 0s 14ms/step - loss: 0.2325 - accuracy: 0.9143 - val_loss: 0.2500 - val_accuracy: 0.9036\n",
      "Epoch 41/50\n",
      "25/25 [==============================] - 0s 15ms/step - loss: 0.2449 - accuracy: 0.9174 - val_loss: 0.2491 - val_accuracy: 0.9036\n",
      "Epoch 42/50\n",
      "25/25 [==============================] - 0s 15ms/step - loss: 0.3046 - accuracy: 0.9077 - val_loss: 0.2483 - val_accuracy: 0.9036\n",
      "Epoch 43/50\n",
      "25/25 [==============================] - 0s 14ms/step - loss: 0.2141 - accuracy: 0.9156 - val_loss: 0.2480 - val_accuracy: 0.9036\n",
      "Epoch 44/50\n",
      "25/25 [==============================] - 0s 14ms/step - loss: 0.2499 - accuracy: 0.9159 - val_loss: 0.2487 - val_accuracy: 0.9036\n",
      "Epoch 45/50\n",
      "25/25 [==============================] - 0s 14ms/step - loss: 0.2261 - accuracy: 0.9164 - val_loss: 0.2473 - val_accuracy: 0.9036\n",
      "Epoch 46/50\n",
      "25/25 [==============================] - 0s 14ms/step - loss: 0.2251 - accuracy: 0.9165 - val_loss: 0.2465 - val_accuracy: 0.9036\n",
      "Epoch 47/50\n",
      "25/25 [==============================] - 0s 15ms/step - loss: 0.2521 - accuracy: 0.8994 - val_loss: 0.2459 - val_accuracy: 0.9036\n",
      "Epoch 48/50\n",
      "25/25 [==============================] - 0s 15ms/step - loss: 0.2174 - accuracy: 0.9178 - val_loss: 0.2467 - val_accuracy: 0.9036\n",
      "Epoch 49/50\n",
      "25/25 [==============================] - 0s 15ms/step - loss: 0.2685 - accuracy: 0.9008 - val_loss: 0.2454 - val_accuracy: 0.9036\n",
      "Epoch 50/50\n",
      "25/25 [==============================] - 0s 14ms/step - loss: 0.1953 - accuracy: 0.9292 - val_loss: 0.2456 - val_accuracy: 0.9036\n"
     ]
    }
   ],
   "source": [
    "history = model.fit(X_train, y_train, epochs=epoch, verbose=1, validation_data=(X_test, y_test))"
   ]
  },
  {
   "cell_type": "code",
   "execution_count": 44,
   "id": "blond-lambda",
   "metadata": {},
   "outputs": [
    {
     "data": {
      "image/png": "[encoded data removed]",
      "text/plain": [
       "<Figure size 432x288 with 1 Axes>"
      ]
     },
     "metadata": {
      "needs_background": "light"
     },
     "output_type": "display_data"
    },
    {
     "data": {
      "image/png": "[encoded data removed]",
      "text/plain": [
       "<Figure size 432x288 with 1 Axes>"
      ]
     },
     "metadata": {
      "needs_background": "light"
     },
     "output_type": "display_data"
    }
   ],
   "source": [
    "plot_learningCurve(history, epoch)"
   ]
  },
  {
   "cell_type": "code",
   "execution_count": null,
   "id": "patent-exclusive",
   "metadata": {},
   "outputs": [],
   "source": []
  }
 ],
 "metadata": {
  "kernelspec": {
   "display_name": "Python 3",
   "language": "python",
   "name": "python3"
  },
  "language_info": {
   "codemirror_mode": {
    "name": "ipython",
    "version": 3
   },
   "file_extension": ".py",
   "mimetype": "text/x-python",
   "name": "python",
   "nbconvert_exporter": "python",
   "pygments_lexer": "ipython3",
   "version": "3.8.5"
  }
 },
 "nbformat": 4,
 "nbformat_minor": 5
}
