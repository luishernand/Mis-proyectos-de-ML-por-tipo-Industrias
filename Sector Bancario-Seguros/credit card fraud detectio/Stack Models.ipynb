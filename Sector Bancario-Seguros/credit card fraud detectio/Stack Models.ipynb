{
 "cells": [
  {
   "cell_type": "markdown",
   "id": "threaded-distance",
   "metadata": {},
   "source": [
    "# Stacking Models"
   ]
  },
  {
   "cell_type": "markdown",
   "id": "experimental-convertible",
   "metadata": {},
   "source": [
    "## Libraries"
   ]
  },
  {
   "cell_type": "code",
   "execution_count": 40,
   "id": "swiss-cholesterol",
   "metadata": {},
   "outputs": [],
   "source": [
    "import numpy as np\n",
    "import pandas as pd\n",
    "import matplotlib.pyplot as plt"
   ]
  },
  {
   "cell_type": "markdown",
   "id": "automated-murder",
   "metadata": {},
   "source": [
    "##  1. Read data"
   ]
  },
  {
   "cell_type": "code",
   "execution_count": 2,
   "id": "instructional-person",
   "metadata": {},
   "outputs": [
    {
     "data": {
      "text/html": [
       "<div>\n",
       "<style scoped>\n",
       "    .dataframe tbody tr th:only-of-type {\n",
       "        vertical-align: middle;\n",
       "    }\n",
       "\n",
       "    .dataframe tbody tr th {\n",
       "        vertical-align: top;\n",
       "    }\n",
       "\n",
       "    .dataframe thead th {\n",
       "        text-align: right;\n",
       "    }\n",
       "</style>\n",
       "<table border=\"1\" class=\"dataframe\">\n",
       "  <thead>\n",
       "    <tr style=\"text-align: right;\">\n",
       "      <th></th>\n",
       "      <th>Time</th>\n",
       "      <th>V1</th>\n",
       "      <th>V2</th>\n",
       "      <th>V3</th>\n",
       "      <th>V4</th>\n",
       "      <th>V5</th>\n",
       "      <th>V6</th>\n",
       "      <th>V7</th>\n",
       "      <th>V8</th>\n",
       "      <th>V9</th>\n",
       "      <th>...</th>\n",
       "      <th>V21</th>\n",
       "      <th>V22</th>\n",
       "      <th>V23</th>\n",
       "      <th>V24</th>\n",
       "      <th>V25</th>\n",
       "      <th>V26</th>\n",
       "      <th>V27</th>\n",
       "      <th>V28</th>\n",
       "      <th>Amount</th>\n",
       "      <th>Class</th>\n",
       "    </tr>\n",
       "  </thead>\n",
       "  <tbody>\n",
       "    <tr>\n",
       "      <th>0</th>\n",
       "      <td>0.0</td>\n",
       "      <td>-1.359807</td>\n",
       "      <td>-0.072781</td>\n",
       "      <td>2.536347</td>\n",
       "      <td>1.378155</td>\n",
       "      <td>-0.338321</td>\n",
       "      <td>0.462388</td>\n",
       "      <td>0.239599</td>\n",
       "      <td>0.098698</td>\n",
       "      <td>0.363787</td>\n",
       "      <td>...</td>\n",
       "      <td>-0.018307</td>\n",
       "      <td>0.277838</td>\n",
       "      <td>-0.110474</td>\n",
       "      <td>0.066928</td>\n",
       "      <td>0.128539</td>\n",
       "      <td>-0.189115</td>\n",
       "      <td>0.133558</td>\n",
       "      <td>-0.021053</td>\n",
       "      <td>149.62</td>\n",
       "      <td>0</td>\n",
       "    </tr>\n",
       "    <tr>\n",
       "      <th>1</th>\n",
       "      <td>0.0</td>\n",
       "      <td>1.191857</td>\n",
       "      <td>0.266151</td>\n",
       "      <td>0.166480</td>\n",
       "      <td>0.448154</td>\n",
       "      <td>0.060018</td>\n",
       "      <td>-0.082361</td>\n",
       "      <td>-0.078803</td>\n",
       "      <td>0.085102</td>\n",
       "      <td>-0.255425</td>\n",
       "      <td>...</td>\n",
       "      <td>-0.225775</td>\n",
       "      <td>-0.638672</td>\n",
       "      <td>0.101288</td>\n",
       "      <td>-0.339846</td>\n",
       "      <td>0.167170</td>\n",
       "      <td>0.125895</td>\n",
       "      <td>-0.008983</td>\n",
       "      <td>0.014724</td>\n",
       "      <td>2.69</td>\n",
       "      <td>0</td>\n",
       "    </tr>\n",
       "  </tbody>\n",
       "</table>\n",
       "<p>2 rows × 31 columns</p>\n",
       "</div>"
      ],
      "text/plain": [
       "   Time        V1        V2        V3        V4        V5        V6        V7  \\\n",
       "0   0.0 -1.359807 -0.072781  2.536347  1.378155 -0.338321  0.462388  0.239599   \n",
       "1   0.0  1.191857  0.266151  0.166480  0.448154  0.060018 -0.082361 -0.078803   \n",
       "\n",
       "         V8        V9  ...       V21       V22       V23       V24       V25  \\\n",
       "0  0.098698  0.363787  ... -0.018307  0.277838 -0.110474  0.066928  0.128539   \n",
       "1  0.085102 -0.255425  ... -0.225775 -0.638672  0.101288 -0.339846  0.167170   \n",
       "\n",
       "        V26       V27       V28  Amount  Class  \n",
       "0 -0.189115  0.133558 -0.021053  149.62      0  \n",
       "1  0.125895 -0.008983  0.014724    2.69      0  \n",
       "\n",
       "[2 rows x 31 columns]"
      ]
     },
     "execution_count": 2,
     "metadata": {},
     "output_type": "execute_result"
    }
   ],
   "source": [
    "df = pd.read_csv('creditcard.csv')\n",
    "df.head(2)"
   ]
  },
  {
   "cell_type": "code",
   "execution_count": 3,
   "id": "cardiovascular-minneapolis",
   "metadata": {},
   "outputs": [
    {
     "data": {
      "text/plain": [
       "(284807, 31)"
      ]
     },
     "execution_count": 3,
     "metadata": {},
     "output_type": "execute_result"
    }
   ],
   "source": [
    "df.shape"
   ]
  },
  {
   "cell_type": "code",
   "execution_count": 4,
   "id": "enormous-promotion",
   "metadata": {},
   "outputs": [
    {
     "data": {
      "text/plain": [
       "0    284315\n",
       "1       492\n",
       "Name: Class, dtype: int64"
      ]
     },
     "execution_count": 4,
     "metadata": {},
     "output_type": "execute_result"
    }
   ],
   "source": [
    "df['Class'].value_counts()"
   ]
  },
  {
   "cell_type": "markdown",
   "id": "quality-connecticut",
   "metadata": {},
   "source": [
    "## 2. Feature selection"
   ]
  },
  {
   "cell_type": "code",
   "execution_count": 6,
   "id": "encouraging-words",
   "metadata": {},
   "outputs": [],
   "source": [
    "X = df.drop('Class', axis =1)\n",
    "y = df[\"Class\"]"
   ]
  },
  {
   "cell_type": "markdown",
   "id": "involved-retirement",
   "metadata": {},
   "source": [
    "###  Reduce dataset undersampling"
   ]
  },
  {
   "cell_type": "code",
   "execution_count": 5,
   "id": "pending-temple",
   "metadata": {},
   "outputs": [],
   "source": [
    "from imblearn.under_sampling import RandomUnderSampler"
   ]
  },
  {
   "cell_type": "code",
   "execution_count": 8,
   "id": "pretty-apple",
   "metadata": {},
   "outputs": [
    {
     "data": {
      "text/plain": [
       "((984, 30), (984,))"
      ]
     },
     "execution_count": 8,
     "metadata": {},
     "output_type": "execute_result"
    }
   ],
   "source": [
    "rus = RandomUnderSampler(random_state=1)\n",
    "X_rus, y_rus = rus.fit_resample(X,y)\n",
    "X_rus.shape, y_rus.shape"
   ]
  },
  {
   "cell_type": "code",
   "execution_count": 9,
   "id": "ahead-precipitation",
   "metadata": {},
   "outputs": [
    {
     "data": {
      "text/plain": [
       "0    492\n",
       "1    492\n",
       "Name: Class, dtype: int64"
      ]
     },
     "execution_count": 9,
     "metadata": {},
     "output_type": "execute_result"
    }
   ],
   "source": [
    "y_rus.value_counts()"
   ]
  },
  {
   "cell_type": "markdown",
   "id": "loaded-nirvana",
   "metadata": {},
   "source": [
    "### Split into train-test"
   ]
  },
  {
   "cell_type": "code",
   "execution_count": 10,
   "id": "otherwise-hearing",
   "metadata": {},
   "outputs": [],
   "source": [
    "from sklearn.model_selection import train_test_split"
   ]
  },
  {
   "cell_type": "code",
   "execution_count": 12,
   "id": "maritime-signature",
   "metadata": {},
   "outputs": [],
   "source": [
    "X_train, X_test, y_train, y_test = train_test_split(X_rus, y_rus, random_state = 42, test_size = .2, stratify=y_rus)"
   ]
  },
  {
   "cell_type": "markdown",
   "id": "final-basics",
   "metadata": {},
   "source": [
    "## Build Models"
   ]
  },
  {
   "cell_type": "code",
   "execution_count": 13,
   "id": "earlier-mailing",
   "metadata": {},
   "outputs": [],
   "source": [
    "from sklearn.neighbors import KNeighborsClassifier\n",
    "from sklearn.svm import SVC\n",
    "from sklearn.tree import DecisionTreeClassifier\n",
    "from sklearn.ensemble import RandomForestClassifier\n",
    "from sklearn.neural_network import MLPClassifier"
   ]
  },
  {
   "cell_type": "code",
   "execution_count": 14,
   "id": "handmade-influence",
   "metadata": {},
   "outputs": [],
   "source": [
    "# knn \n",
    "knn = KNeighborsClassifier(n_neighbors= 3)\n",
    "knn.fit(X_train, y_train)\n",
    "knn_pred = knn.predict(X_test)"
   ]
  },
  {
   "cell_type": "code",
   "execution_count": 15,
   "id": "arbitrary-aurora",
   "metadata": {},
   "outputs": [],
   "source": [
    "# SVC\n",
    "svc = SVC(gamma=2, C=1)\n",
    "svc.fit(X_train, y_train)\n",
    "svc_pred = svc.predict(X_test)"
   ]
  },
  {
   "cell_type": "code",
   "execution_count": 17,
   "id": "rational-apartment",
   "metadata": {},
   "outputs": [],
   "source": [
    "# DT \n",
    "dt = DecisionTreeClassifier(max_depth=5)\n",
    "dt.fit(X_train, y_train)\n",
    "dt_pred = dt.predict(X_test)"
   ]
  },
  {
   "cell_type": "code",
   "execution_count": 18,
   "id": "otherwise-expansion",
   "metadata": {},
   "outputs": [],
   "source": [
    "# RF\n",
    "rf = RandomForestClassifier(n_estimators=10)\n",
    "rf.fit(X_train, y_train)\n",
    "rf_pred = rf.predict(X_test)"
   ]
  },
  {
   "cell_type": "code",
   "execution_count": 19,
   "id": "inappropriate-waterproof",
   "metadata": {},
   "outputs": [],
   "source": [
    "# MLP\n",
    "mlp = MLPClassifier(alpha=1, max_iter=1000)\n",
    "mlp.fit(X_train, y_train)\n",
    "mlp_pred = mlp.predict(X_test)"
   ]
  },
  {
   "cell_type": "markdown",
   "id": "contrary-motor",
   "metadata": {},
   "source": [
    "### Evaluation Scores"
   ]
  },
  {
   "cell_type": "code",
   "execution_count": 37,
   "id": "unavailable-bachelor",
   "metadata": {},
   "outputs": [],
   "source": [
    "from sklearn.metrics import f1_score, matthews_corrcoef, accuracy_score, plot_confusion_matrix, classification_report"
   ]
  },
  {
   "cell_type": "code",
   "execution_count": 21,
   "id": "independent-transport",
   "metadata": {},
   "outputs": [],
   "source": [
    "#accuracy\n",
    "knn_acc = accuracy_score(y_test, knn_pred)\n",
    "svc_acc = accuracy_score(y_test, svc_pred)\n",
    "dt_acc = accuracy_score(y_test, dt_pred)\n",
    "rf_acc = accuracy_score(y_test, rf_pred)\n",
    "mlp_acc = accuracy_score(y_test, mlp_pred)"
   ]
  },
  {
   "cell_type": "code",
   "execution_count": 22,
   "id": "moved-injury",
   "metadata": {},
   "outputs": [],
   "source": [
    "#mcc\n",
    "knn_mcc = matthews_corrcoef(y_test, knn_pred)\n",
    "svc_mcc = matthews_corrcoef(y_test, svc_pred)\n",
    "dt_mcc = matthews_corrcoef(y_test, dt_pred)\n",
    "rf_mcc = matthews_corrcoef(y_test, rf_pred)\n",
    "mlp_mcc = matthews_corrcoef(y_test, mlp_pred)"
   ]
  },
  {
   "cell_type": "code",
   "execution_count": 23,
   "id": "interesting-steering",
   "metadata": {},
   "outputs": [],
   "source": [
    "#f1_score\n",
    "knn_f1 = f1_score(y_test, knn_pred)\n",
    "svc_f1 = f1_score(y_test, svc_pred)\n",
    "dt_f1 = f1_score(y_test, dt_pred)\n",
    "rf_f1 = f1_score(y_test, rf_pred)\n",
    "knn_f1 = f1_score(y_test, knn_pred)"
   ]
  },
  {
   "cell_type": "markdown",
   "id": "differential-plant",
   "metadata": {},
   "source": [
    "## Build stack model"
   ]
  },
  {
   "cell_type": "code",
   "execution_count": 25,
   "id": "lonely-class",
   "metadata": {},
   "outputs": [],
   "source": [
    "from sklearn.ensemble import StackingClassifier\n",
    "from sklearn.linear_model import LogisticRegression"
   ]
  },
  {
   "cell_type": "code",
   "execution_count": 26,
   "id": "uniform-entry",
   "metadata": {},
   "outputs": [],
   "source": [
    "estimators = [\n",
    "    ('knn', knn),\n",
    "    ('svc', svc),\n",
    "    ('dt', dt),\n",
    "    ('rf', rf),\n",
    "    ('mlp', mlp)\n",
    "]"
   ]
  },
  {
   "cell_type": "code",
   "execution_count": 28,
   "id": "casual-analysis",
   "metadata": {},
   "outputs": [],
   "source": [
    "stack_model = StackingClassifier(estimators=estimators, final_estimator=LogisticRegression())\n",
    "stack_model.fit(X_train, y_train)\n",
    "stack_pred = stack_model.predict(X_test)"
   ]
  },
  {
   "cell_type": "code",
   "execution_count": 29,
   "id": "marked-convertible",
   "metadata": {},
   "outputs": [],
   "source": [
    "stack_acc = accuracy_score(y_test, stack_pred)\n",
    "stack_mcc = matthews_corrcoef(y_test, stack_pred)\n",
    "stack_f1 = f1_score(y_test, stack_pred)"
   ]
  },
  {
   "cell_type": "markdown",
   "id": "favorite-variation",
   "metadata": {},
   "source": [
    "### Scores"
   ]
  },
  {
   "cell_type": "code",
   "execution_count": 31,
   "id": "supposed-boost",
   "metadata": {},
   "outputs": [],
   "source": [
    "acc_list = {'knn': knn_acc,\n",
    "'svc': svc_acc,\n",
    "'dt': dt_acc,\n",
    "'rf': rf_acc,\n",
    "'mlp': mlp_acc,\n",
    "'stack': stack_acc}"
   ]
  },
  {
   "cell_type": "code",
   "execution_count": 32,
   "id": "rough-nursing",
   "metadata": {},
   "outputs": [],
   "source": [
    "mcc_list = {'knn': knn_mcc,\n",
    "'svc': svc_mcc,\n",
    "'dt': dt_mcc,\n",
    "'rf': rf_mcc,\n",
    "'mlp': mlp_mcc,\n",
    "'stack': stack_mcc}"
   ]
  },
  {
   "cell_type": "code",
   "execution_count": 33,
   "id": "every-mistake",
   "metadata": {},
   "outputs": [],
   "source": [
    "f1_list = {'knn': knn_f1,\n",
    "'svc': svc_f1,\n",
    "'dt': dt_f1,\n",
    "'rf': rf_f1,\n",
    "'mlp': mlp_f1,\n",
    "'stack': stack_f1}"
   ]
  },
  {
   "cell_type": "code",
   "execution_count": 36,
   "id": "relative-retrieval",
   "metadata": {},
   "outputs": [
    {
     "data": {
      "text/html": [
       "<div>\n",
       "<style scoped>\n",
       "    .dataframe tbody tr th:only-of-type {\n",
       "        vertical-align: middle;\n",
       "    }\n",
       "\n",
       "    .dataframe tbody tr th {\n",
       "        vertical-align: top;\n",
       "    }\n",
       "\n",
       "    .dataframe thead th {\n",
       "        text-align: right;\n",
       "    }\n",
       "</style>\n",
       "<table border=\"1\" class=\"dataframe\">\n",
       "  <thead>\n",
       "    <tr style=\"text-align: right;\">\n",
       "      <th></th>\n",
       "      <th>acc</th>\n",
       "      <th>mcc</th>\n",
       "      <th>f1</th>\n",
       "    </tr>\n",
       "  </thead>\n",
       "  <tbody>\n",
       "    <tr>\n",
       "      <th>rf</th>\n",
       "      <td>0.959391</td>\n",
       "      <td>0.919522</td>\n",
       "      <td>0.958333</td>\n",
       "    </tr>\n",
       "    <tr>\n",
       "      <th>stack</th>\n",
       "      <td>0.959391</td>\n",
       "      <td>0.918961</td>\n",
       "      <td>0.958763</td>\n",
       "    </tr>\n",
       "    <tr>\n",
       "      <th>dt</th>\n",
       "      <td>0.928934</td>\n",
       "      <td>0.857864</td>\n",
       "      <td>0.928571</td>\n",
       "    </tr>\n",
       "    <tr>\n",
       "      <th>mlp</th>\n",
       "      <td>0.908629</td>\n",
       "      <td>0.828120</td>\n",
       "      <td>0.900000</td>\n",
       "    </tr>\n",
       "    <tr>\n",
       "      <th>knn</th>\n",
       "      <td>0.680203</td>\n",
       "      <td>0.360375</td>\n",
       "      <td>0.676923</td>\n",
       "    </tr>\n",
       "    <tr>\n",
       "      <th>svc</th>\n",
       "      <td>0.517766</td>\n",
       "      <td>0.124987</td>\n",
       "      <td>0.059406</td>\n",
       "    </tr>\n",
       "  </tbody>\n",
       "</table>\n",
       "</div>"
      ],
      "text/plain": [
       "            acc       mcc        f1\n",
       "rf     0.959391  0.919522  0.958333\n",
       "stack  0.959391  0.918961  0.958763\n",
       "dt     0.928934  0.857864  0.928571\n",
       "mlp    0.908629  0.828120  0.900000\n",
       "knn    0.680203  0.360375  0.676923\n",
       "svc    0.517766  0.124987  0.059406"
      ]
     },
     "execution_count": 36,
     "metadata": {},
     "output_type": "execute_result"
    }
   ],
   "source": [
    "acc_df = pd.DataFrame.from_dict(acc_list, orient='index', columns = ['acc'])\n",
    "mcc_df = pd.DataFrame.from_dict(mcc_list, orient='index', columns = ['mcc'])\n",
    "f1_df = pd.DataFrame.from_dict(f1_list, orient='index', columns = ['f1'])\n",
    "result_score = pd.concat([acc_df, mcc_df, f1_df], axis =1)\n",
    "result_score.sort_values(by= 'mcc', ascending=False)"
   ]
  },
  {
   "cell_type": "code",
   "execution_count": 38,
   "id": "significant-branch",
   "metadata": {},
   "outputs": [
    {
     "name": "stdout",
     "output_type": "stream",
     "text": [
      "              precision    recall  f1-score   support\n",
      "\n",
      "      normal       0.95      0.97      0.96        99\n",
      "     fraudes       0.97      0.95      0.96        98\n",
      "\n",
      "    accuracy                           0.96       197\n",
      "   macro avg       0.96      0.96      0.96       197\n",
      "weighted avg       0.96      0.96      0.96       197\n",
      "\n"
     ]
    }
   ],
   "source": [
    "# classification report\n",
    "labels = ['normal', 'fraudes']\n",
    "print(classification_report(y_test, stack_pred, target_names=labels))"
   ]
  },
  {
   "cell_type": "code",
   "execution_count": 41,
   "id": "residential-resort",
   "metadata": {},
   "outputs": [
    {
     "data": {
      "image/png": "[encoded data removed]",
      "text/plain": [
       "<Figure size 432x288 with 2 Axes>"
      ]
     },
     "metadata": {
      "needs_background": "light"
     },
     "output_type": "display_data"
    }
   ],
   "source": [
    "plot_confusion_matrix(stack_model, X_test, y_test)\n",
    "plt.title('Stack  Model')\n",
    "plt.show()"
   ]
  }
 ],
 "metadata": {
  "kernelspec": {
   "display_name": "Python 3",
   "language": "python",
   "name": "python3"
  },
  "language_info": {
   "codemirror_mode": {
    "name": "ipython",
    "version": 3
   },
   "file_extension": ".py",
   "mimetype": "text/x-python",
   "name": "python",
   "nbconvert_exporter": "python",
   "pygments_lexer": "ipython3",
   "version": "3.8.5"
  }
 },
 "nbformat": 4,
 "nbformat_minor": 5
}
