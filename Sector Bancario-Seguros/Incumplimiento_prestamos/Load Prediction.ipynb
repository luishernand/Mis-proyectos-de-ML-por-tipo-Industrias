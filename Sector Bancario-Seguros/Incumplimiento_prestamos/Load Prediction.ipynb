{
 "cells": [
  {
   "cell_type": "markdown",
   "id": "based-pledge",
   "metadata": {},
   "source": [
    "# Predicción de Incumplimiento de Prestamos\n",
    "**Descripción:** predecir el incumplimiento del préstamo a partir de determinadas características del cliente utilizando Machine Learning con python. Este modelo de predicción se puede implementar en un gran conjunto de datos."
   ]
  },
  {
   "cell_type": "markdown",
   "id": "experimental-customs",
   "metadata": {},
   "source": [
    "**Acerca del conjunto de datos:** Este conjunto de datos trata sobre préstamos pasados. El conjunto de datos incluye detalles de clientes cuyos préstamos ya están cancelados o en mora. Incluye los siguientes campos:  \n",
    "\n",
    "|Field\t|Description|Descripcón|\n",
    "|-------|-----------|----------|\n",
    "|Loan_status|\tWhether a loan is paid off on in collection| Si el prestamo fue pagado o esta en proceso de cobro|\n",
    "|Principal|Basic principal loan amount at the|Monto Básico del préstamo|\n",
    "|Terms|\tOrigination terms which can be weekly (7 days), biweekly, and monthly payoff schedule|Plazos de originación que pueden ser semanales (7 días), quincenales y programas de pago mensuales|\n",
    "|Effective_date|\tWhen the loan got originated and took effects|Cuándo se originó y entró en vigor el préstamo|\n",
    "|Due_date|\tSince it’s one-time payoff schedule, each loan has one single due date|Dado que se trata de un calendario de liquidación único, cada préstamo tiene una única fecha de vencimiento|\n",
    "|Age|\tAge of applicant|Edad de la solicitante|\n",
    "|Education|\tEducation of applicant|Educacion del solicitante|\n",
    "|Gender|\tThe gender of applican|Genero|"
   ]
  },
  {
   "cell_type": "markdown",
   "id": "varied-fetish",
   "metadata": {},
   "source": [
    "## 0. Librerias"
   ]
  },
  {
   "cell_type": "code",
   "execution_count": 1,
   "id": "proprietary-feeding",
   "metadata": {},
   "outputs": [],
   "source": [
    "import pandas as pd\n",
    "import numpy as np\n",
    "import matplotlib.pyplot as plt\n",
    "import seaborn as sns\n",
    "import itertools\n",
    "from matplotlib.ticker import NullFormatter\n",
    "import matplotlib.ticker as ticker\n",
    "from sklearn import metrics\n",
    "%matplotlib inline"
   ]
  },
  {
   "cell_type": "markdown",
   "id": "absent-crystal",
   "metadata": {},
   "source": [
    "## 1. Read dataset"
   ]
  },
  {
   "cell_type": "code",
   "execution_count": 2,
   "id": "complimentary-escape",
   "metadata": {},
   "outputs": [
    {
     "data": {
      "text/html": [
       "<div>\n",
       "<style scoped>\n",
       "    .dataframe tbody tr th:only-of-type {\n",
       "        vertical-align: middle;\n",
       "    }\n",
       "\n",
       "    .dataframe tbody tr th {\n",
       "        vertical-align: top;\n",
       "    }\n",
       "\n",
       "    .dataframe thead th {\n",
       "        text-align: right;\n",
       "    }\n",
       "</style>\n",
       "<table border=\"1\" class=\"dataframe\">\n",
       "  <thead>\n",
       "    <tr style=\"text-align: right;\">\n",
       "      <th></th>\n",
       "      <th>loan_status</th>\n",
       "      <th>Principal</th>\n",
       "      <th>terms</th>\n",
       "      <th>effective_date</th>\n",
       "      <th>due_date</th>\n",
       "      <th>age</th>\n",
       "      <th>education</th>\n",
       "      <th>Gender</th>\n",
       "    </tr>\n",
       "  </thead>\n",
       "  <tbody>\n",
       "    <tr>\n",
       "      <th>0</th>\n",
       "      <td>PAIDOFF</td>\n",
       "      <td>1000</td>\n",
       "      <td>30</td>\n",
       "      <td>2016-09-08</td>\n",
       "      <td>2016-10-07</td>\n",
       "      <td>45</td>\n",
       "      <td>High School or Below</td>\n",
       "      <td>male</td>\n",
       "    </tr>\n",
       "    <tr>\n",
       "      <th>1</th>\n",
       "      <td>PAIDOFF</td>\n",
       "      <td>1000</td>\n",
       "      <td>30</td>\n",
       "      <td>2016-09-08</td>\n",
       "      <td>2016-10-07</td>\n",
       "      <td>33</td>\n",
       "      <td>Bechalor</td>\n",
       "      <td>female</td>\n",
       "    </tr>\n",
       "    <tr>\n",
       "      <th>2</th>\n",
       "      <td>PAIDOFF</td>\n",
       "      <td>1000</td>\n",
       "      <td>15</td>\n",
       "      <td>2016-09-08</td>\n",
       "      <td>2016-09-22</td>\n",
       "      <td>27</td>\n",
       "      <td>college</td>\n",
       "      <td>male</td>\n",
       "    </tr>\n",
       "    <tr>\n",
       "      <th>3</th>\n",
       "      <td>PAIDOFF</td>\n",
       "      <td>1000</td>\n",
       "      <td>30</td>\n",
       "      <td>2016-09-09</td>\n",
       "      <td>2016-10-08</td>\n",
       "      <td>28</td>\n",
       "      <td>college</td>\n",
       "      <td>female</td>\n",
       "    </tr>\n",
       "    <tr>\n",
       "      <th>4</th>\n",
       "      <td>PAIDOFF</td>\n",
       "      <td>1000</td>\n",
       "      <td>30</td>\n",
       "      <td>2016-09-09</td>\n",
       "      <td>2016-10-08</td>\n",
       "      <td>29</td>\n",
       "      <td>college</td>\n",
       "      <td>male</td>\n",
       "    </tr>\n",
       "  </tbody>\n",
       "</table>\n",
       "</div>"
      ],
      "text/plain": [
       "  loan_status  Principal  terms effective_date   due_date  age  \\\n",
       "0     PAIDOFF       1000     30     2016-09-08 2016-10-07   45   \n",
       "1     PAIDOFF       1000     30     2016-09-08 2016-10-07   33   \n",
       "2     PAIDOFF       1000     15     2016-09-08 2016-09-22   27   \n",
       "3     PAIDOFF       1000     30     2016-09-09 2016-10-08   28   \n",
       "4     PAIDOFF       1000     30     2016-09-09 2016-10-08   29   \n",
       "\n",
       "              education  Gender  \n",
       "0  High School or Below    male  \n",
       "1              Bechalor  female  \n",
       "2               college    male  \n",
       "3               college  female  \n",
       "4               college    male  "
      ]
     },
     "execution_count": 2,
     "metadata": {},
     "output_type": "execute_result"
    }
   ],
   "source": [
    "df = pd.read_csv('loan_train.csv', usecols=['loan_status', 'Principal', 'terms',\n",
    "                                            'effective_date', 'due_date', 'age', 'education', 'Gender'], \n",
    "                 parse_dates=['effective_date','due_date' ])\n",
    "df.head()"
   ]
  },
  {
   "cell_type": "code",
   "execution_count": 3,
   "id": "pointed-california",
   "metadata": {},
   "outputs": [
    {
     "data": {
      "text/plain": [
       "(346, 8)"
      ]
     },
     "execution_count": 3,
     "metadata": {},
     "output_type": "execute_result"
    }
   ],
   "source": [
    "df.shape"
   ]
  },
  {
   "cell_type": "markdown",
   "id": "widespread-yellow",
   "metadata": {},
   "source": [
    "### Data Straucture"
   ]
  },
  {
   "cell_type": "code",
   "execution_count": 4,
   "id": "suburban-assumption",
   "metadata": {},
   "outputs": [
    {
     "data": {
      "text/plain": [
       "object            3\n",
       "int64             3\n",
       "datetime64[ns]    2\n",
       "dtype: int64"
      ]
     },
     "execution_count": 4,
     "metadata": {},
     "output_type": "execute_result"
    }
   ],
   "source": [
    "df.dtypes.value_counts()"
   ]
  },
  {
   "cell_type": "code",
   "execution_count": 5,
   "id": "junior-measurement",
   "metadata": {},
   "outputs": [
    {
     "data": {
      "text/plain": [
       "loan_status               object\n",
       "Principal                  int64\n",
       "terms                      int64\n",
       "effective_date    datetime64[ns]\n",
       "due_date          datetime64[ns]\n",
       "age                        int64\n",
       "education                 object\n",
       "Gender                    object\n",
       "dtype: object"
      ]
     },
     "execution_count": 5,
     "metadata": {},
     "output_type": "execute_result"
    }
   ],
   "source": [
    "df.dtypes"
   ]
  },
  {
   "cell_type": "code",
   "execution_count": 6,
   "id": "useful-movement",
   "metadata": {},
   "outputs": [
    {
     "data": {
      "text/plain": [
       "loan_status       0\n",
       "Principal         0\n",
       "terms             0\n",
       "effective_date    0\n",
       "due_date          0\n",
       "age               0\n",
       "education         0\n",
       "Gender            0\n",
       "dtype: int64"
      ]
     },
     "execution_count": 6,
     "metadata": {},
     "output_type": "execute_result"
    }
   ],
   "source": [
    "#check missing values\n",
    "df.isnull().sum()"
   ]
  },
  {
   "cell_type": "markdown",
   "id": "indie-thong",
   "metadata": {},
   "source": [
    "## 2. Data Analysis"
   ]
  },
  {
   "cell_type": "code",
   "execution_count": 7,
   "id": "graduate-celebrity",
   "metadata": {},
   "outputs": [
    {
     "data": {
      "text/plain": [
       "PAIDOFF       260\n",
       "COLLECTION     86\n",
       "Name: loan_status, dtype: int64"
      ]
     },
     "execution_count": 7,
     "metadata": {},
     "output_type": "execute_result"
    }
   ],
   "source": [
    "df['loan_status'].value_counts()"
   ]
  },
  {
   "cell_type": "code",
   "execution_count": 8,
   "id": "infinite-sheffield",
   "metadata": {},
   "outputs": [
    {
     "data": {
      "image/png": "[encoded data removed]",
      "text/plain": [
       "<Figure size 432x216 with 2 Axes>"
      ]
     },
     "metadata": {
      "needs_background": "light"
     },
     "output_type": "display_data"
    }
   ],
   "source": [
    "bins = np.linspace(df.Principal.min(), df.Principal.max(), 10)\n",
    "g =sns.FacetGrid(col = 'Gender', hue= 'loan_status', data = df, palette=\"Set1\", col_wrap=2)\n",
    "g.map(plt.hist,'Principal', bins = bins, ec ='k')\n",
    "g.axes[-1].legend()\n",
    "plt.show()"
   ]
  },
  {
   "cell_type": "code",
   "execution_count": 9,
   "id": "spread-beach",
   "metadata": {
    "scrolled": true
   },
   "outputs": [
    {
     "data": {
      "image/png": "[encoded data removed]",
      "text/plain": [
       "<Figure size 818.875x360 with 2 Axes>"
      ]
     },
     "metadata": {
      "needs_background": "light"
     },
     "output_type": "display_data"
    }
   ],
   "source": [
    "sns.catplot(x= 'Gender', y ='Principal', hue= 'loan_status', data = df, kind ='bar',col = 'Gender',col_wrap=2, ci= None);"
   ]
  },
  {
   "cell_type": "code",
   "execution_count": 10,
   "id": "tested-jonathan",
   "metadata": {},
   "outputs": [
    {
     "data": {
      "text/plain": [
       "Gender  loan_status\n",
       "female  PAIDOFF        86.54\n",
       "        COLLECTION     13.46\n",
       "male    PAIDOFF        73.13\n",
       "        COLLECTION     26.87\n",
       "Name: loan_status, dtype: float64"
      ]
     },
     "execution_count": 10,
     "metadata": {},
     "output_type": "execute_result"
    }
   ],
   "source": [
    "round((df.groupby('Gender')['loan_status'].value_counts(normalize = True)*100),2)"
   ]
  },
  {
   "cell_type": "markdown",
   "id": "statewide-extreme",
   "metadata": {},
   "source": [
    "El 86.54% de las mujeres paga su préstamo mientras que el 73.13% de los hombres"
   ]
  },
  {
   "cell_type": "code",
   "execution_count": 11,
   "id": "professional-shame",
   "metadata": {},
   "outputs": [
    {
     "data": {
      "image/png": "[encoded data removed]",
      "text/plain": [
       "<Figure size 818.875x360 with 2 Axes>"
      ]
     },
     "metadata": {
      "needs_background": "light"
     },
     "output_type": "display_data"
    }
   ],
   "source": [
    "sns.catplot(x= 'Gender', y ='age', hue= 'loan_status', data = df, kind ='bar',col = 'Gender',col_wrap=2, ci= None);"
   ]
  },
  {
   "cell_type": "code",
   "execution_count": 12,
   "id": "finished-suffering",
   "metadata": {},
   "outputs": [],
   "source": [
    "#day off week Create a columns\n",
    "df['day_of_week'] =df['effective_date'].dt.dayofweek"
   ]
  },
  {
   "cell_type": "code",
   "execution_count": 13,
   "id": "digital-browse",
   "metadata": {
    "scrolled": true
   },
   "outputs": [
    {
     "data": {
      "image/png": "[encoded data removed]",
      "text/plain": [
       "<Figure size 818.875x360 with 2 Axes>"
      ]
     },
     "metadata": {
      "needs_background": "light"
     },
     "output_type": "display_data"
    }
   ],
   "source": [
    "sns.catplot(x= 'Gender', y ='day_of_week', hue= 'loan_status', data = df, kind ='bar',col = 'Gender',col_wrap=2, ci= None);"
   ]
  },
  {
   "cell_type": "markdown",
   "id": "broken-evanescence",
   "metadata": {},
   "source": [
    "Vemos que las personas que obtienen el préstamo al final de la semana no lo cancelan, así que usemos la binarización de funciones para establecer valores de umbral inferiores al día 4"
   ]
  },
  {
   "cell_type": "code",
   "execution_count": 14,
   "id": "qualified-advancement",
   "metadata": {},
   "outputs": [
    {
     "data": {
      "text/html": [
       "<div>\n",
       "<style scoped>\n",
       "    .dataframe tbody tr th:only-of-type {\n",
       "        vertical-align: middle;\n",
       "    }\n",
       "\n",
       "    .dataframe tbody tr th {\n",
       "        vertical-align: top;\n",
       "    }\n",
       "\n",
       "    .dataframe thead th {\n",
       "        text-align: right;\n",
       "    }\n",
       "</style>\n",
       "<table border=\"1\" class=\"dataframe\">\n",
       "  <thead>\n",
       "    <tr style=\"text-align: right;\">\n",
       "      <th></th>\n",
       "      <th>loan_status</th>\n",
       "      <th>Principal</th>\n",
       "      <th>terms</th>\n",
       "      <th>effective_date</th>\n",
       "      <th>due_date</th>\n",
       "      <th>age</th>\n",
       "      <th>education</th>\n",
       "      <th>Gender</th>\n",
       "      <th>day_of_week</th>\n",
       "      <th>weekend</th>\n",
       "    </tr>\n",
       "  </thead>\n",
       "  <tbody>\n",
       "    <tr>\n",
       "      <th>0</th>\n",
       "      <td>PAIDOFF</td>\n",
       "      <td>1000</td>\n",
       "      <td>30</td>\n",
       "      <td>2016-09-08</td>\n",
       "      <td>2016-10-07</td>\n",
       "      <td>45</td>\n",
       "      <td>High School or Below</td>\n",
       "      <td>male</td>\n",
       "      <td>3</td>\n",
       "      <td>0</td>\n",
       "    </tr>\n",
       "    <tr>\n",
       "      <th>1</th>\n",
       "      <td>PAIDOFF</td>\n",
       "      <td>1000</td>\n",
       "      <td>30</td>\n",
       "      <td>2016-09-08</td>\n",
       "      <td>2016-10-07</td>\n",
       "      <td>33</td>\n",
       "      <td>Bechalor</td>\n",
       "      <td>female</td>\n",
       "      <td>3</td>\n",
       "      <td>0</td>\n",
       "    </tr>\n",
       "    <tr>\n",
       "      <th>2</th>\n",
       "      <td>PAIDOFF</td>\n",
       "      <td>1000</td>\n",
       "      <td>15</td>\n",
       "      <td>2016-09-08</td>\n",
       "      <td>2016-09-22</td>\n",
       "      <td>27</td>\n",
       "      <td>college</td>\n",
       "      <td>male</td>\n",
       "      <td>3</td>\n",
       "      <td>0</td>\n",
       "    </tr>\n",
       "    <tr>\n",
       "      <th>3</th>\n",
       "      <td>PAIDOFF</td>\n",
       "      <td>1000</td>\n",
       "      <td>30</td>\n",
       "      <td>2016-09-09</td>\n",
       "      <td>2016-10-08</td>\n",
       "      <td>28</td>\n",
       "      <td>college</td>\n",
       "      <td>female</td>\n",
       "      <td>4</td>\n",
       "      <td>1</td>\n",
       "    </tr>\n",
       "    <tr>\n",
       "      <th>4</th>\n",
       "      <td>PAIDOFF</td>\n",
       "      <td>1000</td>\n",
       "      <td>30</td>\n",
       "      <td>2016-09-09</td>\n",
       "      <td>2016-10-08</td>\n",
       "      <td>29</td>\n",
       "      <td>college</td>\n",
       "      <td>male</td>\n",
       "      <td>4</td>\n",
       "      <td>1</td>\n",
       "    </tr>\n",
       "  </tbody>\n",
       "</table>\n",
       "</div>"
      ],
      "text/plain": [
       "  loan_status  Principal  terms effective_date   due_date  age  \\\n",
       "0     PAIDOFF       1000     30     2016-09-08 2016-10-07   45   \n",
       "1     PAIDOFF       1000     30     2016-09-08 2016-10-07   33   \n",
       "2     PAIDOFF       1000     15     2016-09-08 2016-09-22   27   \n",
       "3     PAIDOFF       1000     30     2016-09-09 2016-10-08   28   \n",
       "4     PAIDOFF       1000     30     2016-09-09 2016-10-08   29   \n",
       "\n",
       "              education  Gender  day_of_week  weekend  \n",
       "0  High School or Below    male            3        0  \n",
       "1              Bechalor  female            3        0  \n",
       "2               college    male            3        0  \n",
       "3               college  female            4        1  \n",
       "4               college    male            4        1  "
      ]
     },
     "execution_count": 14,
     "metadata": {},
     "output_type": "execute_result"
    }
   ],
   "source": [
    "# establecer binarizacion para el umbral encontrado\n",
    "df['weekend'] = df['day_of_week'].apply(lambda x: 1 if(x>3)else 0)\n",
    "df.head()"
   ]
  },
  {
   "cell_type": "code",
   "execution_count": 15,
   "id": "bored-reason",
   "metadata": {},
   "outputs": [
    {
     "data": {
      "text/plain": [
       "High School or Below    151\n",
       "college                 149\n",
       "Bechalor                 44\n",
       "Master or Above           2\n",
       "Name: education, dtype: int64"
      ]
     },
     "execution_count": 15,
     "metadata": {},
     "output_type": "execute_result"
    }
   ],
   "source": [
    "df['education'].value_counts()"
   ]
  },
  {
   "cell_type": "code",
   "execution_count": 16,
   "id": "circular-discount",
   "metadata": {
    "scrolled": false
   },
   "outputs": [
    {
     "data": {
      "text/plain": [
       "education             loan_status\n",
       "Bechalor              PAIDOFF        75.00\n",
       "                      COLLECTION     25.00\n",
       "High School or Below  PAIDOFF        74.17\n",
       "                      COLLECTION     25.83\n",
       "Master or Above       COLLECTION     50.00\n",
       "                      PAIDOFF        50.00\n",
       "college               PAIDOFF        76.51\n",
       "                      COLLECTION     23.49\n",
       "Name: loan_status, dtype: float64"
      ]
     },
     "execution_count": 16,
     "metadata": {},
     "output_type": "execute_result"
    }
   ],
   "source": [
    "education = round(df.groupby('education')['loan_status'].value_counts(normalize =True)*100,2)\n",
    "education"
   ]
  },
  {
   "cell_type": "markdown",
   "id": "infectious-encoding",
   "metadata": {},
   "source": [
    "## 3. Data Prep"
   ]
  },
  {
   "cell_type": "markdown",
   "id": "canadian-command",
   "metadata": {},
   "source": [
    "### Convert categorical features to numerical values"
   ]
  },
  {
   "cell_type": "code",
   "execution_count": 17,
   "id": "funky-makeup",
   "metadata": {},
   "outputs": [
    {
     "data": {
      "text/html": [
       "<div>\n",
       "<style scoped>\n",
       "    .dataframe tbody tr th:only-of-type {\n",
       "        vertical-align: middle;\n",
       "    }\n",
       "\n",
       "    .dataframe tbody tr th {\n",
       "        vertical-align: top;\n",
       "    }\n",
       "\n",
       "    .dataframe thead th {\n",
       "        text-align: right;\n",
       "    }\n",
       "</style>\n",
       "<table border=\"1\" class=\"dataframe\">\n",
       "  <thead>\n",
       "    <tr style=\"text-align: right;\">\n",
       "      <th></th>\n",
       "      <th>loan_status</th>\n",
       "      <th>Principal</th>\n",
       "      <th>terms</th>\n",
       "      <th>effective_date</th>\n",
       "      <th>due_date</th>\n",
       "      <th>age</th>\n",
       "      <th>education</th>\n",
       "      <th>Gender</th>\n",
       "      <th>day_of_week</th>\n",
       "      <th>weekend</th>\n",
       "    </tr>\n",
       "  </thead>\n",
       "  <tbody>\n",
       "    <tr>\n",
       "      <th>0</th>\n",
       "      <td>PAIDOFF</td>\n",
       "      <td>1000</td>\n",
       "      <td>30</td>\n",
       "      <td>2016-09-08</td>\n",
       "      <td>2016-10-07</td>\n",
       "      <td>45</td>\n",
       "      <td>High School or Below</td>\n",
       "      <td>0</td>\n",
       "      <td>3</td>\n",
       "      <td>0</td>\n",
       "    </tr>\n",
       "    <tr>\n",
       "      <th>1</th>\n",
       "      <td>PAIDOFF</td>\n",
       "      <td>1000</td>\n",
       "      <td>30</td>\n",
       "      <td>2016-09-08</td>\n",
       "      <td>2016-10-07</td>\n",
       "      <td>33</td>\n",
       "      <td>Bechalor</td>\n",
       "      <td>1</td>\n",
       "      <td>3</td>\n",
       "      <td>0</td>\n",
       "    </tr>\n",
       "    <tr>\n",
       "      <th>2</th>\n",
       "      <td>PAIDOFF</td>\n",
       "      <td>1000</td>\n",
       "      <td>15</td>\n",
       "      <td>2016-09-08</td>\n",
       "      <td>2016-09-22</td>\n",
       "      <td>27</td>\n",
       "      <td>college</td>\n",
       "      <td>0</td>\n",
       "      <td>3</td>\n",
       "      <td>0</td>\n",
       "    </tr>\n",
       "    <tr>\n",
       "      <th>3</th>\n",
       "      <td>PAIDOFF</td>\n",
       "      <td>1000</td>\n",
       "      <td>30</td>\n",
       "      <td>2016-09-09</td>\n",
       "      <td>2016-10-08</td>\n",
       "      <td>28</td>\n",
       "      <td>college</td>\n",
       "      <td>1</td>\n",
       "      <td>4</td>\n",
       "      <td>1</td>\n",
       "    </tr>\n",
       "    <tr>\n",
       "      <th>4</th>\n",
       "      <td>PAIDOFF</td>\n",
       "      <td>1000</td>\n",
       "      <td>30</td>\n",
       "      <td>2016-09-09</td>\n",
       "      <td>2016-10-08</td>\n",
       "      <td>29</td>\n",
       "      <td>college</td>\n",
       "      <td>0</td>\n",
       "      <td>4</td>\n",
       "      <td>1</td>\n",
       "    </tr>\n",
       "  </tbody>\n",
       "</table>\n",
       "</div>"
      ],
      "text/plain": [
       "  loan_status  Principal  terms effective_date   due_date  age  \\\n",
       "0     PAIDOFF       1000     30     2016-09-08 2016-10-07   45   \n",
       "1     PAIDOFF       1000     30     2016-09-08 2016-10-07   33   \n",
       "2     PAIDOFF       1000     15     2016-09-08 2016-09-22   27   \n",
       "3     PAIDOFF       1000     30     2016-09-09 2016-10-08   28   \n",
       "4     PAIDOFF       1000     30     2016-09-09 2016-10-08   29   \n",
       "\n",
       "              education  Gender  day_of_week  weekend  \n",
       "0  High School or Below       0            3        0  \n",
       "1              Bechalor       1            3        0  \n",
       "2               college       0            3        0  \n",
       "3               college       1            4        1  \n",
       "4               college       0            4        1  "
      ]
     },
     "execution_count": 17,
     "metadata": {},
     "output_type": "execute_result"
    }
   ],
   "source": [
    "# Convert male 0 female 1\n",
    "df['Gender'] = df[\"Gender\"].replace(['male', 'female'], [0,1])\n",
    "df.head()"
   ]
  },
  {
   "cell_type": "code",
   "execution_count": 18,
   "id": "included-provider",
   "metadata": {},
   "outputs": [
    {
     "data": {
      "text/plain": [
       "['loan_status',\n",
       " 'Principal',\n",
       " 'terms',\n",
       " 'effective_date',\n",
       " 'due_date',\n",
       " 'age',\n",
       " 'education',\n",
       " 'Gender',\n",
       " 'day_of_week',\n",
       " 'weekend']"
      ]
     },
     "execution_count": 18,
     "metadata": {},
     "output_type": "execute_result"
    }
   ],
   "source": [
    "df.columns.tolist()"
   ]
  },
  {
   "cell_type": "markdown",
   "id": "dramatic-elements",
   "metadata": {},
   "source": [
    "### get_dummies"
   ]
  },
  {
   "cell_type": "code",
   "execution_count": 19,
   "id": "early-special",
   "metadata": {},
   "outputs": [
    {
     "data": {
      "text/html": [
       "<div>\n",
       "<style scoped>\n",
       "    .dataframe tbody tr th:only-of-type {\n",
       "        vertical-align: middle;\n",
       "    }\n",
       "\n",
       "    .dataframe tbody tr th {\n",
       "        vertical-align: top;\n",
       "    }\n",
       "\n",
       "    .dataframe thead th {\n",
       "        text-align: right;\n",
       "    }\n",
       "</style>\n",
       "<table border=\"1\" class=\"dataframe\">\n",
       "  <thead>\n",
       "    <tr style=\"text-align: right;\">\n",
       "      <th></th>\n",
       "      <th>Principal</th>\n",
       "      <th>terms</th>\n",
       "      <th>age</th>\n",
       "      <th>Gender</th>\n",
       "      <th>weekend</th>\n",
       "      <th>Bechalor</th>\n",
       "      <th>High School or Below</th>\n",
       "      <th>Master or Above</th>\n",
       "      <th>college</th>\n",
       "    </tr>\n",
       "  </thead>\n",
       "  <tbody>\n",
       "    <tr>\n",
       "      <th>0</th>\n",
       "      <td>1000</td>\n",
       "      <td>30</td>\n",
       "      <td>45</td>\n",
       "      <td>0</td>\n",
       "      <td>0</td>\n",
       "      <td>0</td>\n",
       "      <td>1</td>\n",
       "      <td>0</td>\n",
       "      <td>0</td>\n",
       "    </tr>\n",
       "    <tr>\n",
       "      <th>1</th>\n",
       "      <td>1000</td>\n",
       "      <td>30</td>\n",
       "      <td>33</td>\n",
       "      <td>1</td>\n",
       "      <td>0</td>\n",
       "      <td>1</td>\n",
       "      <td>0</td>\n",
       "      <td>0</td>\n",
       "      <td>0</td>\n",
       "    </tr>\n",
       "    <tr>\n",
       "      <th>2</th>\n",
       "      <td>1000</td>\n",
       "      <td>15</td>\n",
       "      <td>27</td>\n",
       "      <td>0</td>\n",
       "      <td>0</td>\n",
       "      <td>0</td>\n",
       "      <td>0</td>\n",
       "      <td>0</td>\n",
       "      <td>1</td>\n",
       "    </tr>\n",
       "    <tr>\n",
       "      <th>3</th>\n",
       "      <td>1000</td>\n",
       "      <td>30</td>\n",
       "      <td>28</td>\n",
       "      <td>1</td>\n",
       "      <td>1</td>\n",
       "      <td>0</td>\n",
       "      <td>0</td>\n",
       "      <td>0</td>\n",
       "      <td>1</td>\n",
       "    </tr>\n",
       "    <tr>\n",
       "      <th>4</th>\n",
       "      <td>1000</td>\n",
       "      <td>30</td>\n",
       "      <td>29</td>\n",
       "      <td>0</td>\n",
       "      <td>1</td>\n",
       "      <td>0</td>\n",
       "      <td>0</td>\n",
       "      <td>0</td>\n",
       "      <td>1</td>\n",
       "    </tr>\n",
       "  </tbody>\n",
       "</table>\n",
       "</div>"
      ],
      "text/plain": [
       "   Principal  terms  age  Gender  weekend  Bechalor  High School or Below  \\\n",
       "0       1000     30   45       0        0         0                     1   \n",
       "1       1000     30   33       1        0         1                     0   \n",
       "2       1000     15   27       0        0         0                     0   \n",
       "3       1000     30   28       1        1         0                     0   \n",
       "4       1000     30   29       0        1         0                     0   \n",
       "\n",
       "   Master or Above  college  \n",
       "0                0        0  \n",
       "1                0        0  \n",
       "2                0        1  \n",
       "3                0        1  \n",
       "4                0        1  "
      ]
     },
     "execution_count": 19,
     "metadata": {},
     "output_type": "execute_result"
    }
   ],
   "source": [
    "features = df[['Principal', 'terms',  'age','Gender', 'weekend']]\n",
    "features = pd.concat([features, pd.get_dummies(df['education'])], axis =1)\n",
    "features.head()"
   ]
  },
  {
   "cell_type": "markdown",
   "id": "multiple-teaching",
   "metadata": {},
   "source": [
    "### Feature selection (split X nad y target)"
   ]
  },
  {
   "cell_type": "code",
   "execution_count": 20,
   "id": "convinced-briefs",
   "metadata": {},
   "outputs": [
    {
     "data": {
      "text/plain": [
       "((346, 9), (346,))"
      ]
     },
     "execution_count": 20,
     "metadata": {},
     "output_type": "execute_result"
    }
   ],
   "source": [
    "X = features\n",
    "y = df['loan_status']\n",
    "X.shape, y.shape"
   ]
  },
  {
   "cell_type": "markdown",
   "id": "sonic-brush",
   "metadata": {},
   "source": [
    "### Normilize Data\n",
    "La estandarización de datos da a los datos una media cero y una varianza unitaria (técnicamente debe realizarse después de la división de la prueba del tren)"
   ]
  },
  {
   "cell_type": "code",
   "execution_count": 21,
   "id": "alpha-application",
   "metadata": {},
   "outputs": [],
   "source": [
    "from sklearn.preprocessing import StandardScaler"
   ]
  },
  {
   "cell_type": "code",
   "execution_count": 22,
   "id": "honest-poster",
   "metadata": {},
   "outputs": [],
   "source": [
    "sc = StandardScaler()\n",
    "X= sc.fit_transform(X)"
   ]
  },
  {
   "cell_type": "markdown",
   "id": "roman-orientation",
   "metadata": {},
   "source": [
    "### Split into train and test"
   ]
  },
  {
   "cell_type": "code",
   "execution_count": 23,
   "id": "written-russell",
   "metadata": {},
   "outputs": [],
   "source": [
    "from sklearn.model_selection import train_test_split"
   ]
  },
  {
   "cell_type": "code",
   "execution_count": 24,
   "id": "comprehensive-listing",
   "metadata": {},
   "outputs": [],
   "source": [
    "X_train, X_test, y_train, y_test = train_test_split(X, y , test_size = 0.2, random_state =4)"
   ]
  },
  {
   "cell_type": "markdown",
   "id": "cellular-aluminum",
   "metadata": {},
   "source": [
    "## 4. Building Models"
   ]
  },
  {
   "cell_type": "markdown",
   "id": "special-davis",
   "metadata": {},
   "source": [
    "### KNN"
   ]
  },
  {
   "cell_type": "code",
   "execution_count": 25,
   "id": "commercial-induction",
   "metadata": {},
   "outputs": [],
   "source": [
    "from sklearn.neighbors import KNeighborsClassifier"
   ]
  },
  {
   "cell_type": "code",
   "execution_count": 26,
   "id": "regulation-butter",
   "metadata": {},
   "outputs": [
    {
     "data": {
      "text/plain": [
       "array([0.67142857, 0.58571429, 0.72857143, 0.7       , 0.77142857,\n",
       "       0.71428571, 0.8       , 0.75714286, 0.74285714])"
      ]
     },
     "execution_count": 26,
     "metadata": {},
     "output_type": "execute_result"
    }
   ],
   "source": [
    "ks = 10\n",
    "mean_acc = np.zeros((ks-1))\n",
    "std_acc = np.zeros((ks-1))\n",
    "for n in range(1, ks):\n",
    "    knn = KNeighborsClassifier(n_neighbors=n).fit(X_train, y_train)\n",
    "    y_pred = knn.predict(X_test)\n",
    "    mean_acc[n-1] = metrics.accuracy_score(y_test, y_pred)\n",
    "    \n",
    "    std_acc[n-1]=np.std(y_pred==y_test)/np.sqrt(y_pred.shape[0])\n",
    "mean_acc"
   ]
  },
  {
   "cell_type": "code",
   "execution_count": 111,
   "id": "gorgeous-flashing",
   "metadata": {},
   "outputs": [
    {
     "data": {
      "image/png": "[encoded data removed]",
      "text/plain": [
       "<Figure size 432x288 with 1 Axes>"
      ]
     },
     "metadata": {
      "needs_background": "light"
     },
     "output_type": "display_data"
    }
   ],
   "source": [
    "plt.plot(range(1,ks), mean_acc, 'g')\n",
    "plt.legend(('Accuracy ', '+/- 3xstd'))\n",
    "plt.fill_between(range(1,ks),mean_acc - 1 * std_acc,mean_acc + 1 * std_acc, alpha=0.10)\n",
    "plt.xlabel('n_neighbors')\n",
    "plt.ylabel('Accuracy')\n",
    "plt.tight_layout()\n",
    "plt.show()"
   ]
  },
  {
   "cell_type": "code",
   "execution_count": 27,
   "id": "emotional-secret",
   "metadata": {},
   "outputs": [
    {
     "name": "stdout",
     "output_type": "stream",
     "text": [
      "The best accuracy 0.8 with n_neighbors= 7\n"
     ]
    }
   ],
   "source": [
    "print('The best accuracy', mean_acc.max(), 'with n_neighbors=', mean_acc.argmax()+1)"
   ]
  },
  {
   "cell_type": "code",
   "execution_count": 28,
   "id": "mobile-brooklyn",
   "metadata": {},
   "outputs": [
    {
     "data": {
      "text/plain": [
       "KNeighborsClassifier(n_neighbors=7)"
      ]
     },
     "execution_count": 28,
     "metadata": {},
     "output_type": "execute_result"
    }
   ],
   "source": [
    "k=7\n",
    "knn = KNeighborsClassifier(n_neighbors=k)\n",
    "knn.fit(X_train, y_train)"
   ]
  },
  {
   "cell_type": "code",
   "execution_count": 31,
   "id": "raising-incentive",
   "metadata": {},
   "outputs": [],
   "source": [
    "y_pred = knn.predict(X_test)"
   ]
  },
  {
   "cell_type": "code",
   "execution_count": 29,
   "id": "hindu-beast",
   "metadata": {},
   "outputs": [
    {
     "name": "stdout",
     "output_type": "stream",
     "text": [
      "              precision    recall  f1-score   support\n",
      "\n",
      "  COLLECTION       0.54      0.47      0.50        15\n",
      "     PAIDOFF       0.86      0.89      0.88        55\n",
      "\n",
      "    accuracy                           0.80        70\n",
      "   macro avg       0.70      0.68      0.69        70\n",
      "weighted avg       0.79      0.80      0.79        70\n",
      "\n"
     ]
    }
   ],
   "source": [
    "print(metrics.classification_report(y_test, knn.predict(X_test)))"
   ]
  },
  {
   "cell_type": "code",
   "execution_count": 32,
   "id": "beautiful-sound",
   "metadata": {},
   "outputs": [
    {
     "data": {
      "image/png": "[encoded data removed]",
      "text/plain": [
       "<Figure size 432x288 with 2 Axes>"
      ]
     },
     "metadata": {
      "needs_background": "light"
     },
     "output_type": "display_data"
    }
   ],
   "source": [
    "metrics.plot_confusion_matrix(knn,X_test, y_test)\n",
    "plt.title('KNN Confusion Metrix')\n",
    "plt.show()"
   ]
  },
  {
   "cell_type": "markdown",
   "id": "closed-affiliation",
   "metadata": {},
   "source": [
    "### Decision Tree"
   ]
  },
  {
   "cell_type": "code",
   "execution_count": 33,
   "id": "characteristic-handbook",
   "metadata": {},
   "outputs": [],
   "source": [
    "from sklearn.tree import DecisionTreeClassifier"
   ]
  },
  {
   "cell_type": "code",
   "execution_count": 34,
   "id": "challenging-granny",
   "metadata": {},
   "outputs": [
    {
     "data": {
      "text/plain": [
       "DecisionTreeClassifier(criterion='entropy', max_depth=4)"
      ]
     },
     "execution_count": 34,
     "metadata": {},
     "output_type": "execute_result"
    }
   ],
   "source": [
    "loantree = DecisionTreeClassifier(criterion='entropy', max_depth=4)\n",
    "loantree.fit(X_train,y_train)"
   ]
  },
  {
   "cell_type": "code",
   "execution_count": 35,
   "id": "mineral-appeal",
   "metadata": {},
   "outputs": [
    {
     "data": {
      "text/plain": [
       "0.6142857142857143"
      ]
     },
     "execution_count": 35,
     "metadata": {},
     "output_type": "execute_result"
    }
   ],
   "source": [
    "predtree = loantree.predict(X_test)\n",
    "metrics.accuracy_score(y_test, predtree)"
   ]
  },
  {
   "cell_type": "code",
   "execution_count": 36,
   "id": "residential-summer",
   "metadata": {},
   "outputs": [
    {
     "name": "stdout",
     "output_type": "stream",
     "text": [
      "              precision    recall  f1-score   support\n",
      "\n",
      "  COLLECTION       0.27      0.47      0.34        15\n",
      "     PAIDOFF       0.82      0.65      0.73        55\n",
      "\n",
      "    accuracy                           0.61        70\n",
      "   macro avg       0.54      0.56      0.53        70\n",
      "weighted avg       0.70      0.61      0.64        70\n",
      "\n"
     ]
    }
   ],
   "source": [
    "print(metrics.classification_report(y_test, predtree))"
   ]
  },
  {
   "cell_type": "code",
   "execution_count": 37,
   "id": "varying-taylor",
   "metadata": {},
   "outputs": [
    {
     "data": {
      "image/png": "[encoded data removed]",
      "text/plain": [
       "<Figure size 432x288 with 2 Axes>"
      ]
     },
     "metadata": {
      "needs_background": "light"
     },
     "output_type": "display_data"
    }
   ],
   "source": [
    "metrics.plot_confusion_matrix(loantree,X_test, y_test)\n",
    "plt.title('Decision Tree Confusion Metrix')\n",
    "plt.show()"
   ]
  },
  {
   "cell_type": "markdown",
   "id": "pretty-honor",
   "metadata": {},
   "source": [
    "### Support Vector Machine"
   ]
  },
  {
   "cell_type": "code",
   "execution_count": 38,
   "id": "exotic-barrier",
   "metadata": {},
   "outputs": [],
   "source": [
    "from sklearn.svm import SVC"
   ]
  },
  {
   "cell_type": "code",
   "execution_count": 39,
   "id": "confirmed-control",
   "metadata": {},
   "outputs": [
    {
     "data": {
      "text/plain": [
       "SVC()"
      ]
     },
     "execution_count": 39,
     "metadata": {},
     "output_type": "execute_result"
    }
   ],
   "source": [
    "svc = SVC()\n",
    "svc.fit(X_train, y_train)"
   ]
  },
  {
   "cell_type": "code",
   "execution_count": 40,
   "id": "sapphire-ocean",
   "metadata": {},
   "outputs": [
    {
     "data": {
      "text/plain": [
       "0.7428571428571429"
      ]
     },
     "execution_count": 40,
     "metadata": {},
     "output_type": "execute_result"
    }
   ],
   "source": [
    "yhat = svc.predict(X_test)\n",
    "metrics.accuracy_score(y_test, yhat)"
   ]
  },
  {
   "cell_type": "code",
   "execution_count": 41,
   "id": "perfect-victim",
   "metadata": {},
   "outputs": [
    {
     "name": "stdout",
     "output_type": "stream",
     "text": [
      "              precision    recall  f1-score   support\n",
      "\n",
      "  COLLECTION       0.36      0.27      0.31        15\n",
      "     PAIDOFF       0.81      0.87      0.84        55\n",
      "\n",
      "    accuracy                           0.74        70\n",
      "   macro avg       0.59      0.57      0.57        70\n",
      "weighted avg       0.72      0.74      0.73        70\n",
      "\n"
     ]
    }
   ],
   "source": [
    "print(metrics.classification_report(y_test, yhat))"
   ]
  },
  {
   "cell_type": "code",
   "execution_count": 42,
   "id": "frequent-spread",
   "metadata": {},
   "outputs": [
    {
     "data": {
      "image/png": "[encoded data removed]",
      "text/plain": [
       "<Figure size 432x288 with 2 Axes>"
      ]
     },
     "metadata": {
      "needs_background": "light"
     },
     "output_type": "display_data"
    }
   ],
   "source": [
    "metrics.plot_confusion_matrix(svc,X_test, y_test)\n",
    "plt.title('SVC Confusion Metrix')\n",
    "plt.show()"
   ]
  },
  {
   "cell_type": "markdown",
   "id": "opponent-system",
   "metadata": {},
   "source": [
    "### Logistic Regression"
   ]
  },
  {
   "cell_type": "code",
   "execution_count": 43,
   "id": "ruled-volume",
   "metadata": {},
   "outputs": [],
   "source": [
    "from sklearn.linear_model import LogisticRegression"
   ]
  },
  {
   "cell_type": "code",
   "execution_count": 44,
   "id": "aging-discipline",
   "metadata": {},
   "outputs": [
    {
     "data": {
      "text/plain": [
       "LogisticRegression(C=0.01, solver='liblinear')"
      ]
     },
     "execution_count": 44,
     "metadata": {},
     "output_type": "execute_result"
    }
   ],
   "source": [
    "lr = LogisticRegression(C=0.01, solver='liblinear')\n",
    "lr.fit(X_train, y_train)"
   ]
  },
  {
   "cell_type": "code",
   "execution_count": 45,
   "id": "wanted-tactics",
   "metadata": {},
   "outputs": [],
   "source": [
    "y_pred = lr.predict(X_test)"
   ]
  },
  {
   "cell_type": "code",
   "execution_count": 46,
   "id": "respective-letters",
   "metadata": {},
   "outputs": [
    {
     "name": "stdout",
     "output_type": "stream",
     "text": [
      "              precision    recall  f1-score   support\n",
      "\n",
      "  COLLECTION       0.18      0.13      0.15        15\n",
      "     PAIDOFF       0.78      0.84      0.81        55\n",
      "\n",
      "    accuracy                           0.69        70\n",
      "   macro avg       0.48      0.48      0.48        70\n",
      "weighted avg       0.65      0.69      0.67        70\n",
      "\n"
     ]
    }
   ],
   "source": [
    "print(metrics.classification_report(y_test, y_pred))"
   ]
  },
  {
   "cell_type": "code",
   "execution_count": 47,
   "id": "rotary-canyon",
   "metadata": {},
   "outputs": [
    {
     "data": {
      "image/png": "[encoded data removed]",
      "text/plain": [
       "<Figure size 432x288 with 2 Axes>"
      ]
     },
     "metadata": {
      "needs_background": "light"
     },
     "output_type": "display_data"
    }
   ],
   "source": [
    "metrics.plot_confusion_matrix(lr,X_test, y_test)\n",
    "plt.title('Logistic Regression Confusion Metrix')\n",
    "plt.show()"
   ]
  },
  {
   "cell_type": "code",
   "execution_count": null,
   "id": "elect-savannah",
   "metadata": {},
   "outputs": [],
   "source": []
  }
 ],
 "metadata": {
  "kernelspec": {
   "display_name": "Python 3",
   "language": "python",
   "name": "python3"
  },
  "language_info": {
   "codemirror_mode": {
    "name": "ipython",
    "version": 3
   },
   "file_extension": ".py",
   "mimetype": "text/x-python",
   "name": "python",
   "nbconvert_exporter": "python",
   "pygments_lexer": "ipython3",
   "version": "3.8.5"
  }
 },
 "nbformat": 4,
 "nbformat_minor": 5
}
